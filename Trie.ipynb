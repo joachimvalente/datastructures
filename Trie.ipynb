{
 "cells": [
  {
   "cell_type": "markdown",
   "metadata": {},
   "source": [
    "# Tries\n",
    "\n",
    "Tries (or radix tree, or prefix tree) are trees where keys are not stored in the node but determined by the ancestors. All descendants of a node have the same prefix."
   ]
  },
  {
   "cell_type": "code",
   "execution_count": 74,
   "metadata": {},
   "outputs": [],
   "source": [
    "class Node:\n",
    "    \n",
    "    def __init__(self):\n",
    "        self.children = {}\n",
    "        self.value = None\n",
    "\n",
    "    def display(self, indent=2):\n",
    "        for k, c in self.children.items():\n",
    "            print('{:<20s} = {}'.format(' ' * (indent - 2) + '|_' + k, c.value if c.value is not None else ''))\n",
    "            c.display(indent + 2)\n",
    "        \n",
    "\n",
    "class Trie:\n",
    "    \n",
    "    def __init__(self):\n",
    "        self.root = Node()\n",
    "    \n",
    "    def lookup(self, key):\n",
    "        node = self.root\n",
    "        for k in key:\n",
    "            if k in node.children:\n",
    "                node = node.children[k]\n",
    "            else:\n",
    "                raise KeyError(key) # not found\n",
    "        if node.value is None:\n",
    "            raise KeyError(key)\n",
    "        return node.value\n",
    "\n",
    "    def insert(self, key, value):\n",
    "        node = self.root\n",
    "        for k in key:\n",
    "            if k not in node.children:\n",
    "                node.children[k] = Node()\n",
    "            node = node.children[k]\n",
    "        node.value = value\n",
    "    \n",
    "    def display(self):\n",
    "        print('◇')\n",
    "        self.root.display()"
   ]
  },
  {
   "cell_type": "code",
   "execution_count": 67,
   "metadata": {},
   "outputs": [],
   "source": [
    "t = Trie()\n",
    "t.insert('one', 1)\n",
    "t.insert('two', 2)\n",
    "t.insert('three', 3)\n",
    "t.insert('four', 4)\n",
    "t.insert('five', 5)\n",
    "t.insert('six', 6)\n",
    "t.insert('seven', 7)\n",
    "t.insert('eight', 8)\n",
    "t.insert('nine', 9)\n",
    "t.insert('ten', 10)\n",
    "t.insert('eleven', 11)\n",
    "t.insert('twelve', 12)\n",
    "t.insert('thirteen', 13)\n",
    "t.insert('fourteen', 14)\n",
    "t.insert('fifteen', 15)"
   ]
  },
  {
   "cell_type": "code",
   "execution_count": 68,
   "metadata": {},
   "outputs": [
    {
     "name": "stdout",
     "output_type": "stream",
     "text": [
      "◇\n",
      "|_o                  = \n",
      "  |_n                = \n",
      "    |_e              = 1\n",
      "|_t                  = \n",
      "  |_w                = \n",
      "    |_o              = 2\n",
      "    |_e              = \n",
      "      |_l            = \n",
      "        |_v          = \n",
      "          |_e        = 12\n",
      "  |_h                = \n",
      "    |_r              = \n",
      "      |_e            = \n",
      "        |_e          = 3\n",
      "    |_i              = \n",
      "      |_r            = \n",
      "        |_t          = \n",
      "          |_e        = \n",
      "            |_e      = \n",
      "              |_n    = 13\n",
      "  |_e                = \n",
      "    |_n              = 10\n",
      "|_f                  = \n",
      "  |_o                = \n",
      "    |_u              = \n",
      "      |_r            = 4\n",
      "        |_t          = \n",
      "          |_e        = \n",
      "            |_e      = \n",
      "              |_n    = 14\n",
      "  |_i                = \n",
      "    |_v              = \n",
      "      |_e            = 5\n",
      "    |_f              = \n",
      "      |_t            = \n",
      "        |_e          = \n",
      "          |_e        = \n",
      "            |_n      = 15\n",
      "|_s                  = \n",
      "  |_i                = \n",
      "    |_x              = 6\n",
      "  |_e                = \n",
      "    |_v              = \n",
      "      |_e            = \n",
      "        |_n          = 7\n",
      "|_e                  = \n",
      "  |_i                = \n",
      "    |_g              = \n",
      "      |_h            = \n",
      "        |_t          = 8\n",
      "  |_l                = \n",
      "    |_e              = \n",
      "      |_v            = \n",
      "        |_e          = \n",
      "          |_n        = 11\n",
      "|_n                  = \n",
      "  |_i                = \n",
      "    |_n              = \n",
      "      |_e            = 9\n"
     ]
    }
   ],
   "source": [
    "t.display()"
   ]
  },
  {
   "cell_type": "code",
   "execution_count": 69,
   "metadata": {},
   "outputs": [
    {
     "name": "stdout",
     "output_type": "stream",
     "text": [
      "2\n",
      "3\n",
      "5\n",
      "'threee'\n",
      "'thre'\n"
     ]
    }
   ],
   "source": [
    "print(t.lookup('two'))\n",
    "print(t.lookup('three'))\n",
    "print(t.lookup('five'))\n",
    "\n",
    "try:\n",
    "    t.lookup('threee')\n",
    "except KeyError as e:\n",
    "    print(str(e))\n",
    "\n",
    "try:\n",
    "    t.lookup('thre')\n",
    "except KeyError as e:\n",
    "    print(str(e))"
   ]
  },
  {
   "cell_type": "code",
   "execution_count": 72,
   "metadata": {},
   "outputs": [
    {
     "name": "stdout",
     "output_type": "stream",
     "text": [
      "-1\n"
     ]
    }
   ],
   "source": [
    "t.insert('one', -1)\n",
    "print(t.lookup('one'))"
   ]
  },
  {
   "cell_type": "code",
   "execution_count": 75,
   "metadata": {},
   "outputs": [
    {
     "name": "stdout",
     "output_type": "stream",
     "text": [
      "◇\n",
      "|_t                  = \n",
      "  |_o                = 1\n",
      "    |_m              = \n",
      "      |_a            = \n",
      "        |_t          = \n",
      "          |_o        = 2\n",
      "            |_e      = \n",
      "              |_s    = 3\n",
      "    |_r              = \n",
      "      |_m            = \n",
      "        |_e          = \n",
      "          |_n        = \n",
      "            |_t      = 4\n",
      "      |_n            = \n",
      "        |_a          = \n",
      "          |_d        = \n",
      "            |_o      = 5\n",
      "    |_w              = \n",
      "      |_a            = \n",
      "        |_r          = \n",
      "          |_d        = 6\n",
      "            |_s      = 7\n"
     ]
    }
   ],
   "source": [
    "t = Trie()\n",
    "t.insert('to', 1)\n",
    "t.insert('tomato', 2)\n",
    "t.insert('tomatoes', 3)\n",
    "t.insert('torment', 4)\n",
    "t.insert('tornado', 5)\n",
    "t.insert('toward', 6)\n",
    "t.insert('towards', 7)\n",
    "t.display()"
   ]
  }
 ],
 "metadata": {
  "kernelspec": {
   "display_name": "Python 3",
   "language": "python",
   "name": "python3"
  },
  "language_info": {
   "codemirror_mode": {
    "name": "ipython",
    "version": 3
   },
   "file_extension": ".py",
   "mimetype": "text/x-python",
   "name": "python",
   "nbconvert_exporter": "python",
   "pygments_lexer": "ipython3",
   "version": "3.6.4"
  }
 },
 "nbformat": 4,
 "nbformat_minor": 2
}
