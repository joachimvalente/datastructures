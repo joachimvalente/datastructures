{
 "cells": [
  {
   "cell_type": "markdown",
   "metadata": {},
   "source": [
    "# Graph Algorithms\n",
    "\n",
    "## Graph, stack & queue implementations\n",
    "\n",
    "Using adjacency lists for graphs, singly-linked list for stacks and doubly-linked list for queues. See `Graph (Adjacency Lists).ipynb` and `Linked List.ipynb` for details"
   ]
  },
  {
   "cell_type": "code",
   "execution_count": 1,
   "metadata": {},
   "outputs": [],
   "source": [
    "class Graph:\n",
    "    \"\"\"Directed raph implemented with adjacency lists.\n",
    "    \n",
    "    For conciseness, no support for undirected graphs,\n",
    "    weights, or edge/vertex removal.\n",
    "    \"\"\"\n",
    "  \n",
    "    def __init__(self):\n",
    "        \"\"\"Constructs a graph with 0 nodes and 0 edges.\"\"\"\n",
    "        self._vertex_to_last_edge = [] # size n\n",
    "        self._edge_to_destination = [] # size m\n",
    "        self._edge_to_next_edge = [] # size m\n",
    "        self.n = 0\n",
    "        self.m = 0\n",
    "\n",
    "    def display(self):\n",
    "        \"\"\"Prints the adjacency lists in a human readable way.\"\"\"\n",
    "        print()\n",
    "        print('{:^8s} | {:^8s}'.format('Vertex', 'Neighbors'))\n",
    "        print('---------------------------------------------')\n",
    "        for v in range(self.n):\n",
    "            print('{:^8d} | {}'.format(v, ', '.join(map(str, sorted(self.neighbors(v))))))\n",
    "        print()\n",
    "      \n",
    "    def neighbors(self, i):\n",
    "        \"\"\"Generator for the nodes directly accessible from node i.\"\"\"\n",
    "        self._validate(i)\n",
    "        edge = self._vertex_to_last_edge[i]\n",
    "        adjacent_vertices = []\n",
    "        while True:\n",
    "            if edge == -1:\n",
    "                return sorted(adjacent_vertices)\n",
    "            adjacent_vertices.append(self._edge_to_destination[edge])\n",
    "            edge = self._edge_to_next_edge[edge]\n",
    "            \n",
    "    def add_edge(self, i, j):\n",
    "        \"\"\"Adds an edge from node i to node j.\"\"\"\n",
    "        self._validate(i, j)\n",
    "        if j not in self.neighbors(i):\n",
    "            self._edge_to_destination.append(j)\n",
    "            last_edge = self._vertex_to_last_edge[i] # can be -1\n",
    "            self._edge_to_next_edge.append(last_edge)\n",
    "            self._vertex_to_last_edge[i] = self.m\n",
    "            self.m += 1\n",
    "\n",
    "    def add_vertex(self):\n",
    "        \"\"\"Adds a vertex.\"\"\"\n",
    "        self._vertex_to_last_edge.append(-1)\n",
    "        self.n += 1\n",
    "\n",
    "    def _validate(self, *args):\n",
    "        \"\"\"Validates index.\"\"\"\n",
    "        for i in args:\n",
    "            if i >= self.n or i < 0:\n",
    "                raise ValueError('Edges must be between 0 and %d' % self.n)"
   ]
  },
  {
   "cell_type": "code",
   "execution_count": 2,
   "metadata": {},
   "outputs": [],
   "source": [
    "class StackNode:\n",
    "    \"\"\"Node of a linear singly-linked list.\"\"\"\n",
    "    \n",
    "    def __init__(self, value):\n",
    "        self.value = value\n",
    "        self.next = None\n",
    "\n",
    "\n",
    "class Stack:\n",
    "    \"\"\"A stack.\"\"\"\n",
    "    \n",
    "    def __init__(self):\n",
    "        self.top = None\n",
    "    \n",
    "    def push(self, value):\n",
    "        node = StackNode(value)\n",
    "        node.next = self.top\n",
    "        self.top = node\n",
    "    \n",
    "    def pop(self):\n",
    "        if not self.top:\n",
    "            raise ValueError('Empty stack')\n",
    "        node = self.top\n",
    "        self.top = self.top.next\n",
    "        return node\n",
    "    \n",
    "    def empty(self):\n",
    "        return not self.top\n",
    "    \n",
    "    def display(self):\n",
    "        \"\"\"Prints the stack.\"\"\"\n",
    "        node = self.top\n",
    "        while node:\n",
    "            print(node.value, end=' → ')\n",
    "            node = node.next\n",
    "        print('◇')"
   ]
  },
  {
   "cell_type": "code",
   "execution_count": 3,
   "metadata": {},
   "outputs": [],
   "source": [
    "class QueueNode:\n",
    "    \"\"\"Node of a linear doubly-linked list.\"\"\"\n",
    "    \n",
    "    def __init__(self, value):\n",
    "        self.value = value\n",
    "        self.next = None\n",
    "        self.prev = None\n",
    "\n",
    "class Queue:\n",
    "    \"\"\"Queue implemented as a doubly-linked list.\"\"\"\n",
    "    \n",
    "    def __init__(self):\n",
    "        self.front = None\n",
    "        self.back = None\n",
    "    \n",
    "    def enqueue(self, value):\n",
    "        \"\"\"Add element to the back.\"\"\"\n",
    "        node = QueueNode(value)\n",
    "        if not self.back:\n",
    "            # Empty queue.\n",
    "            self.back = node\n",
    "            self.front = node\n",
    "        else:\n",
    "            self.back.next = node\n",
    "            node.prev = self.back\n",
    "            self.back = node\n",
    "    \n",
    "    def dequeue(self):\n",
    "        \"\"\"Remove element from the front.\"\"\"\n",
    "        if not self.back:\n",
    "            raise ValueError('Empty queue')\n",
    "        node = self.front\n",
    "        if not self.front.next:\n",
    "            # Queue is now empty.\n",
    "            self.front = None\n",
    "            self.back = None\n",
    "        else:\n",
    "            self.front.next.prev = None\n",
    "            self.front = self.front.next\n",
    "        return node\n",
    "    \n",
    "    def empty(self):\n",
    "        return not self.back\n",
    "    \n",
    "    def display(self):\n",
    "        \"\"\"Prints the queue.\"\"\"\n",
    "        node = self.front\n",
    "        while node:\n",
    "            print(node.value, end=' → ')\n",
    "            node = node.next\n",
    "        print('◇')"
   ]
  },
  {
   "cell_type": "markdown",
   "metadata": {},
   "source": [
    "## Graph Traversal\n",
    "\n",
    "### Depth-first search (DFS)\n",
    "\n",
    "Traverse the graph by going down a branch until a \"leaf\" is reached and then backtracking. Implemented using a stack."
   ]
  },
  {
   "cell_type": "code",
   "execution_count": 4,
   "metadata": {},
   "outputs": [],
   "source": [
    "def depth_first_search(g, func, start_vertex=0):\n",
    "    \"\"\"Pre-order depth-first search.\"\"\"\n",
    "    s = Stack()\n",
    "    s.push(start_vertex)\n",
    "    seen = {start_vertex}\n",
    "    while not s.empty():\n",
    "        v = s.pop().value\n",
    "        func(v) # pre-order\n",
    "        for n in g.neighbors(v):\n",
    "            if n not in seen:\n",
    "                s.push(n)\n",
    "                seen.add(n)"
   ]
  },
  {
   "cell_type": "code",
   "execution_count": 5,
   "metadata": {},
   "outputs": [
    {
     "name": "stdout",
     "output_type": "stream",
     "text": [
      "\n",
      " Vertex  | Neighbors\n",
      "---------------------------------------------\n",
      "   0     | 2\n",
      "   1     | \n",
      "   2     | 3, 7, 8\n",
      "   3     | \n",
      "   4     | 4, 5\n",
      "   5     | 6\n",
      "   6     | \n",
      "   7     | 2, 3, 4, 5, 6\n",
      "   8     | 7, 9\n",
      "   9     | 1\n",
      "\n",
      "Visiting 0\n",
      "Visiting 2\n",
      "Visiting 8\n",
      "Visiting 9\n",
      "Visiting 1\n",
      "Visiting 7\n",
      "Visiting 6\n",
      "Visiting 5\n",
      "Visiting 4\n",
      "Visiting 3\n"
     ]
    }
   ],
   "source": [
    "g = Graph()\n",
    "for _ in range(10):\n",
    "    g.add_vertex()\n",
    "g.add_edge(0, 2)\n",
    "g.add_edge(2, 3)\n",
    "g.add_edge(2, 7)\n",
    "g.add_edge(2, 8)\n",
    "g.add_edge(4, 4)\n",
    "g.add_edge(4, 5)\n",
    "g.add_edge(5, 6)\n",
    "g.add_edge(7, 2)\n",
    "g.add_edge(7, 3)\n",
    "g.add_edge(7, 4)\n",
    "g.add_edge(7, 5)\n",
    "g.add_edge(7, 6)\n",
    "g.add_edge(8, 7)\n",
    "g.add_edge(8, 9)\n",
    "g.add_edge(9, 1)\n",
    "g.display()\n",
    "\n",
    "depth_first_search(g, lambda v: print('Visiting %d' % v))"
   ]
  },
  {
   "cell_type": "markdown",
   "metadata": {},
   "source": [
    "![Graph](img/graph_bfs_dfs.png)"
   ]
  },
  {
   "cell_type": "markdown",
   "metadata": {},
   "source": [
    "### Breadth-first search (BFS)\n",
    "\n",
    "Traverse the graph \"level by level.\" Implemented using a queue."
   ]
  },
  {
   "cell_type": "code",
   "execution_count": 6,
   "metadata": {},
   "outputs": [],
   "source": [
    "def breadth_first_search(g, func, start_vertex=0):\n",
    "    \"\"\"Pre-order breadth-first search.\"\"\"\n",
    "    q = Queue()\n",
    "    q.enqueue(start_vertex)\n",
    "    seen = {start_vertex}\n",
    "    while not q.empty():\n",
    "        v = q.dequeue().value\n",
    "        func(v) # pre-order\n",
    "        for n in g.neighbors(v):\n",
    "            if n not in seen:\n",
    "                q.enqueue(n)\n",
    "                seen.add(n)"
   ]
  },
  {
   "cell_type": "code",
   "execution_count": 7,
   "metadata": {},
   "outputs": [
    {
     "name": "stdout",
     "output_type": "stream",
     "text": [
      "\n",
      " Vertex  | Neighbors\n",
      "---------------------------------------------\n",
      "   0     | 2\n",
      "   1     | \n",
      "   2     | 3, 7, 8\n",
      "   3     | \n",
      "   4     | 4, 5\n",
      "   5     | 6\n",
      "   6     | \n",
      "   7     | 2, 3, 4, 5, 6\n",
      "   8     | 7, 9\n",
      "   9     | 1\n",
      "\n",
      "Visiting 0\n",
      "Visiting 2\n",
      "Visiting 3\n",
      "Visiting 7\n",
      "Visiting 8\n",
      "Visiting 4\n",
      "Visiting 5\n",
      "Visiting 6\n",
      "Visiting 9\n",
      "Visiting 1\n"
     ]
    }
   ],
   "source": [
    "g.display()\n",
    "\n",
    "breadth_first_search(g, lambda v: print('Visiting %d' % v))"
   ]
  },
  {
   "cell_type": "markdown",
   "metadata": {},
   "source": [
    "![Graph](img/graph_bfs_dfs.png)"
   ]
  },
  {
   "cell_type": "markdown",
   "metadata": {},
   "source": [
    "## Topological Sort (for DAGs)\n",
    "\n",
    "Directed Acyclic Graphs are equivalent to graphs that have a topological sort, i.e. partial order. The goal is to list all vertices so that if there's an edge from u to v, u comes before v in the list.\n",
    "\n",
    "The naïve way: take any node with no incoming edge. Remove outgoing edges. Repeat. It works but depending on the complexity of removing edges, it can be slow. Instead we can use a non-destructive algorithms that relies on queues.\n",
    "\n",
    "Precompute deg(v) for each node v, which is the number of incoming edge to v. Put all the ones with dev(v) = 0 in a queue. Then take the front of the queue as the next element, decrease deg for all its neighbors, and if one reaches 0 then add it to the queue. Repeat until the queue is empty."
   ]
  },
  {
   "cell_type": "code",
   "execution_count": 8,
   "metadata": {},
   "outputs": [],
   "source": [
    "def topological_sort(g):\n",
    "    \"\"\"Topological sort for a DAG.\"\"\"\n",
    "    deg = [0] * g.n # contains number of incoming edges\n",
    "    for v in range(g.n):\n",
    "        for n in g.neighbors(v):\n",
    "            deg[n] += 1\n",
    "    \n",
    "    sorted_vertices = []\n",
    "    \n",
    "    q = Queue() # contains vertices with deg(v) = 0\n",
    "    for v in range(g.n):\n",
    "        if deg[v] == 0:\n",
    "            q.enqueue(v)\n",
    "    \n",
    "    while not q.empty():\n",
    "        v = q.dequeue().value\n",
    "        sorted_vertices.append(v)\n",
    "        for n in g.neighbors(v):\n",
    "            deg[n] -= 1\n",
    "            if deg[n] == 0:\n",
    "                q.enqueue(n)\n",
    "    \n",
    "    return sorted_vertices"
   ]
  },
  {
   "cell_type": "code",
   "execution_count": 9,
   "metadata": {},
   "outputs": [
    {
     "name": "stdout",
     "output_type": "stream",
     "text": [
      "\n",
      " Vertex  | Neighbors\n",
      "---------------------------------------------\n",
      "   0     | \n",
      "   1     | 2, 4\n",
      "   2     | 5, 7, 8\n",
      "   3     | 4, 7\n",
      "   4     | 8\n",
      "   5     | \n",
      "   6     | 2\n",
      "   7     | \n",
      "   8     | \n",
      "\n"
     ]
    }
   ],
   "source": [
    "g = Graph()\n",
    "for _ in range(9):\n",
    "    g.add_vertex()\n",
    "g.add_edge(6, 2)\n",
    "g.add_edge(2, 5)\n",
    "g.add_edge(2, 8)\n",
    "g.add_edge(1, 2)\n",
    "g.add_edge(2, 7)\n",
    "g.add_edge(1, 4)\n",
    "g.add_edge(4, 8)\n",
    "g.add_edge(3, 4)\n",
    "g.add_edge(3, 7)\n",
    "\n",
    "g.display()"
   ]
  },
  {
   "cell_type": "markdown",
   "metadata": {},
   "source": [
    "![Graph](img/graph_topological_sort.png)"
   ]
  },
  {
   "cell_type": "code",
   "execution_count": 10,
   "metadata": {},
   "outputs": [
    {
     "name": "stdout",
     "output_type": "stream",
     "text": [
      "[0, 1, 3, 6, 4, 2, 5, 7, 8]\n"
     ]
    }
   ],
   "source": [
    "print(topological_sort(g))"
   ]
  },
  {
   "cell_type": "markdown",
   "metadata": {},
   "source": [
    "The order is better seen on this graph:\n",
    "\n",
    "![Graph](img/graph_topological_sort_2.png)"
   ]
  }
 ],
 "metadata": {
  "kernelspec": {
   "display_name": "Python 3",
   "language": "python",
   "name": "python3"
  },
  "language_info": {
   "codemirror_mode": {
    "name": "ipython",
    "version": 3
   },
   "file_extension": ".py",
   "mimetype": "text/x-python",
   "name": "python",
   "nbconvert_exporter": "python",
   "pygments_lexer": "ipython3",
   "version": "3.6.4"
  }
 },
 "nbformat": 4,
 "nbformat_minor": 2
}
