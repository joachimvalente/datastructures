{
 "cells": [
  {
   "cell_type": "markdown",
   "metadata": {},
   "source": [
    "# Graph Algorithms\n",
    "\n",
    "## Graph, stack, queue & priority queue implementations\n",
    "\n",
    "Using adjacency lists for graphs, singly-linked list for stacks, doubly-linked list for queues, and heap for priority queues. See `Graph (Adjacency Lists).ipynb`, `Linked List.ipynb` and `Heap.ipynb` for details"
   ]
  },
  {
   "cell_type": "code",
   "execution_count": 1,
   "metadata": {},
   "outputs": [],
   "source": [
    "import collections\n",
    "\n",
    "Edge = collections.namedtuple('Edge', ['from_', 'to', 'weight'])\n",
    "\n",
    "class Graph:\n",
    "    \"\"\"Directed raph implemented with adjacency lists.\n",
    "    \n",
    "    For conciseness, edge/vertex removal.\n",
    "    \"\"\"\n",
    "  \n",
    "    def __init__(self, n=0, directed=True):\n",
    "        \"\"\"Constructs a graph with n nodes and 0 edges.\"\"\"\n",
    "        self._vertex_to_last_edge = [-1] * n # size n\n",
    "        self._edge_to_destination = [] # size m\n",
    "        self._edge_to_next_edge = [] # size m\n",
    "        self._weights = [] # size m\n",
    "        self.n = n\n",
    "        self.m = 0\n",
    "        self.directed = directed\n",
    "        \n",
    "    def display(self):\n",
    "        \"\"\"Prints the adjacency lists in a human readable way.\"\"\"\n",
    "        print()\n",
    "        print('{:^8s} | {:^8s}'.format('Vertex', 'Neighbors'))\n",
    "        print('---------------------------------------------')\n",
    "        for v in range(self.n):\n",
    "            print('{:^8d} | {}'.format(v, ', '.join(map(str, sorted(self.neighbors(v))))))\n",
    "        print()\n",
    "      \n",
    "    def neighbors(self, i):\n",
    "        \"\"\"Returns the nodes directly accessible from node i.\"\"\"\n",
    "        self._validate(i)\n",
    "        edge = self._vertex_to_last_edge[i]\n",
    "        adjacent_vertices = []\n",
    "        while True:\n",
    "            if edge == -1:\n",
    "                return sorted(adjacent_vertices)\n",
    "            adjacent_vertices.append(self._edge_to_destination[edge])\n",
    "            edge = self._edge_to_next_edge[edge]\n",
    "            \n",
    "    def add_edge(self, i, j, weight=1.0, other_side_too=None):\n",
    "        \"\"\"Adds an edge from node i to node j.\"\"\"\n",
    "        self._validate(i, j)\n",
    "        if j not in self.neighbors(i):\n",
    "            self._edge_to_destination.append(j)\n",
    "            last_edge = self._vertex_to_last_edge[i] # can be -1\n",
    "            self._edge_to_next_edge.append(last_edge)\n",
    "            self._vertex_to_last_edge[i] = self.m\n",
    "            self._weights.append(weight)\n",
    "            self.m += 1\n",
    "            if not self.directed and other_side_too is None and i != j:\n",
    "                self.add_edge(j, i, weight, other_side_too=False)\n",
    "\n",
    "    def add_vertex(self):\n",
    "        \"\"\"Adds a vertex.\"\"\"\n",
    "        self._vertex_to_last_edge.append(-1)\n",
    "        self.n += 1\n",
    "        \n",
    "    def edges(self, v=None):\n",
    "        \"\"\"Returns list of edges of the graph, or of vertex v if not None.\"\"\"\n",
    "        if v is not None:\n",
    "            self._validate(v)\n",
    "            edges = []\n",
    "            edge = self._vertex_to_last_edge[v]\n",
    "            while edge != -1:\n",
    "                to = self._edge_to_destination[edge]\n",
    "                edges.append(Edge(from_=v, to=to, weight=self._weights[edge]))\n",
    "                edge = self._edge_to_next_edge[edge]\n",
    "            return edges\n",
    "        else:\n",
    "            edges = []\n",
    "            for v in range(self.n):\n",
    "                edge = self._vertex_to_last_edge[v]\n",
    "                while edge != -1:\n",
    "                    to = self._edge_to_destination[edge]\n",
    "                    if self.directed or v <= to:\n",
    "                        edges.append(Edge(from_=v, to=to, weight=self._weights[edge]))\n",
    "                    edge = self._edge_to_next_edge[edge]\n",
    "            return edges\n",
    "\n",
    "    def _validate(self, *args):\n",
    "        \"\"\"Validates index.\"\"\"\n",
    "        for i in args:\n",
    "            if i >= self.n or i < 0:\n",
    "                raise ValueError('Edges must be between 0 and %d' % self.n)"
   ]
  },
  {
   "cell_type": "code",
   "execution_count": 2,
   "metadata": {},
   "outputs": [],
   "source": [
    "class StackNode:\n",
    "    \"\"\"Node of a linear singly-linked list.\"\"\"\n",
    "    \n",
    "    def __init__(self, value):\n",
    "        self.value = value\n",
    "        self.next = None\n",
    "\n",
    "\n",
    "class Stack:\n",
    "    \"\"\"A stack.\"\"\"\n",
    "    \n",
    "    def __init__(self):\n",
    "        self.top = None\n",
    "    \n",
    "    def push(self, value):\n",
    "        node = StackNode(value)\n",
    "        node.next = self.top\n",
    "        self.top = node\n",
    "    \n",
    "    def pop(self):\n",
    "        if not self.top:\n",
    "            raise ValueError('Empty stack')\n",
    "        node = self.top\n",
    "        self.top = self.top.next\n",
    "        return node\n",
    "    \n",
    "    def empty(self):\n",
    "        return not self.top"
   ]
  },
  {
   "cell_type": "code",
   "execution_count": 3,
   "metadata": {},
   "outputs": [],
   "source": [
    "class QueueNode:\n",
    "    \"\"\"Node of a linear doubly-linked list.\"\"\"\n",
    "    \n",
    "    def __init__(self, value):\n",
    "        self.value = value\n",
    "        self.next = None\n",
    "        self.prev = None\n",
    "\n",
    "class Queue:\n",
    "    \"\"\"Queue implemented as a doubly-linked list.\"\"\"\n",
    "    \n",
    "    def __init__(self):\n",
    "        self.front = None\n",
    "        self.back = None\n",
    "    \n",
    "    def enqueue(self, value):\n",
    "        \"\"\"Add element to the back.\"\"\"\n",
    "        node = QueueNode(value)\n",
    "        if not self.back:\n",
    "            # Empty queue.\n",
    "            self.back = node\n",
    "            self.front = node\n",
    "        else:\n",
    "            self.back.next = node\n",
    "            node.prev = self.back\n",
    "            self.back = node\n",
    "    \n",
    "    def dequeue(self):\n",
    "        \"\"\"Remove element from the front.\"\"\"\n",
    "        if not self.back:\n",
    "            raise ValueError('Empty queue')\n",
    "        node = self.front\n",
    "        if not self.front.next:\n",
    "            # Queue is now empty.\n",
    "            self.front = None\n",
    "            self.back = None\n",
    "        else:\n",
    "            self.front.next.prev = None\n",
    "            self.front = self.front.next\n",
    "        return node\n",
    "    \n",
    "    def empty(self):\n",
    "        return not self.back"
   ]
  },
  {
   "cell_type": "code",
   "execution_count": 4,
   "metadata": {},
   "outputs": [],
   "source": [
    "class PriorityQueue:\n",
    "    \"\"\"A min-heap.\"\"\"\n",
    "    \n",
    "    def __init__(self):\n",
    "        self.array = []\n",
    "        self.len = 0\n",
    "        \n",
    "    def items(self):\n",
    "        for item in self.array:\n",
    "            yield item[0]\n",
    "        \n",
    "    def insert(self, value, priority):\n",
    "        \"\"\"Inserts an element.\"\"\"\n",
    "        self.array.append((value, priority))\n",
    "        self.len += 1\n",
    "        idx = self.len - 1\n",
    "        while True:\n",
    "            p = self._parent(idx)\n",
    "            if p is None:\n",
    "                return\n",
    "            if self.array[p][1] <= priority:\n",
    "                return\n",
    "            if self.array[p][1] > priority:\n",
    "                self.array[idx], self.array[p] = self.array[p], self.array[idx]\n",
    "                idx = p\n",
    "\n",
    "    def pop(self):\n",
    "        \"\"\"Removes and returns min element.\"\"\"\n",
    "        if self.len == 0:\n",
    "            raise ValueError('Empty priority queue')\n",
    "        if self.len == 1:\n",
    "            self.len = 0\n",
    "            return self.array.pop()[0]\n",
    "        top = self.array[0]\n",
    "        last = self.array.pop()\n",
    "        self.array[0] = last\n",
    "        self.len -= 1\n",
    "        idx = 0\n",
    "        while True:\n",
    "            left = self._left(idx)\n",
    "            right = self._right(idx)\n",
    "            # No child, done.\n",
    "            if left is None and right is None:\n",
    "                break\n",
    "            # One child, necessary on the left.\n",
    "            elif right is None:\n",
    "                val = self.array[left][1]\n",
    "                if val < last[1]:\n",
    "                    self.array[idx], self.array[left] = self.array[left], self.array[idx]\n",
    "                    idx = left\n",
    "                    continue\n",
    "                else:\n",
    "                    break\n",
    "            # Two children. If necessary, sift down with the larger one.\n",
    "            else:\n",
    "                a = self.array[left][1]\n",
    "                b = self.array[right][1]\n",
    "                if a < b:\n",
    "                    if a < last[1]:\n",
    "                        self.array[idx], self.array[left] = self.array[left], self.array[idx]\n",
    "                        idx = left\n",
    "                        continue\n",
    "                    else:\n",
    "                        break\n",
    "                else:\n",
    "                    if b < last[1]:\n",
    "                        self.array[idx], self.array[right] = self.array[right], self.array[idx]\n",
    "                        idx = right\n",
    "                        continue\n",
    "                    else:\n",
    "                        break\n",
    "        return top[0]\n",
    "\n",
    "    def _parent(self, i):\n",
    "        if i == 0:\n",
    "            return None\n",
    "        return (i - 1) // 2\n",
    "\n",
    "    def _left(self, i):\n",
    "        idx = 2 * i + 1\n",
    "        if idx >= self.len:\n",
    "            return None\n",
    "        return idx\n",
    "\n",
    "    def _right(self, i):\n",
    "        idx = 2 * i + 2\n",
    "        if idx >= self.len:\n",
    "            return None\n",
    "        return idx"
   ]
  },
  {
   "cell_type": "markdown",
   "metadata": {},
   "source": [
    "## Graph Traversal\n",
    "\n",
    "### Depth-first search (DFS)\n",
    "\n",
    "Traverse the graph by going down a branch until a \"leaf\" is reached and then backtracking. Implemented using a stack."
   ]
  },
  {
   "cell_type": "code",
   "execution_count": 5,
   "metadata": {},
   "outputs": [],
   "source": [
    "def depth_first_search(g, func, start_vertex=0):\n",
    "    \"\"\"Pre-order depth-first search.\"\"\"\n",
    "    s = Stack()\n",
    "    s.push(start_vertex)\n",
    "    seen = {start_vertex}\n",
    "    while not s.empty():\n",
    "        v = s.pop().value\n",
    "        func(v) # pre-order\n",
    "        for n in g.neighbors(v):\n",
    "            if n not in seen:\n",
    "                s.push(n)\n",
    "                seen.add(n)"
   ]
  },
  {
   "cell_type": "code",
   "execution_count": 6,
   "metadata": {},
   "outputs": [
    {
     "name": "stdout",
     "output_type": "stream",
     "text": [
      "\n",
      " Vertex  | Neighbors\n",
      "---------------------------------------------\n",
      "   0     | 2\n",
      "   1     | \n",
      "   2     | 3, 7, 8\n",
      "   3     | \n",
      "   4     | 4, 5\n",
      "   5     | 6\n",
      "   6     | \n",
      "   7     | 2, 3, 4, 5, 6\n",
      "   8     | 7, 9\n",
      "   9     | 1\n",
      "\n",
      "Visiting 0\n",
      "Visiting 2\n",
      "Visiting 8\n",
      "Visiting 9\n",
      "Visiting 1\n",
      "Visiting 7\n",
      "Visiting 6\n",
      "Visiting 5\n",
      "Visiting 4\n",
      "Visiting 3\n"
     ]
    }
   ],
   "source": [
    "g = Graph(10)\n",
    "g.add_edge(0, 2)\n",
    "g.add_edge(2, 3)\n",
    "g.add_edge(2, 7)\n",
    "g.add_edge(2, 8)\n",
    "g.add_edge(4, 4)\n",
    "g.add_edge(4, 5)\n",
    "g.add_edge(5, 6)\n",
    "g.add_edge(7, 2)\n",
    "g.add_edge(7, 3)\n",
    "g.add_edge(7, 4)\n",
    "g.add_edge(7, 5)\n",
    "g.add_edge(7, 6)\n",
    "g.add_edge(8, 7)\n",
    "g.add_edge(8, 9)\n",
    "g.add_edge(9, 1)\n",
    "g.display()\n",
    "\n",
    "depth_first_search(g, lambda v: print('Visiting %d' % v))"
   ]
  },
  {
   "cell_type": "markdown",
   "metadata": {},
   "source": [
    "![Graph](img/graph_bfs_dfs.png)"
   ]
  },
  {
   "cell_type": "markdown",
   "metadata": {},
   "source": [
    "### Breadth-first search (BFS)\n",
    "\n",
    "Traverse the graph \"level by level.\" Implemented using a queue."
   ]
  },
  {
   "cell_type": "code",
   "execution_count": 7,
   "metadata": {},
   "outputs": [],
   "source": [
    "def breadth_first_search(g, func, start_vertex=0):\n",
    "    \"\"\"Pre-order breadth-first search.\"\"\"\n",
    "    q = Queue()\n",
    "    q.enqueue(start_vertex)\n",
    "    seen = {start_vertex}\n",
    "    while not q.empty():\n",
    "        v = q.dequeue().value\n",
    "        func(v) # pre-order\n",
    "        for n in g.neighbors(v):\n",
    "            if n not in seen:\n",
    "                q.enqueue(n)\n",
    "                seen.add(n)"
   ]
  },
  {
   "cell_type": "code",
   "execution_count": 8,
   "metadata": {},
   "outputs": [
    {
     "name": "stdout",
     "output_type": "stream",
     "text": [
      "\n",
      " Vertex  | Neighbors\n",
      "---------------------------------------------\n",
      "   0     | 2\n",
      "   1     | \n",
      "   2     | 3, 7, 8\n",
      "   3     | \n",
      "   4     | 4, 5\n",
      "   5     | 6\n",
      "   6     | \n",
      "   7     | 2, 3, 4, 5, 6\n",
      "   8     | 7, 9\n",
      "   9     | 1\n",
      "\n",
      "Visiting 0\n",
      "Visiting 2\n",
      "Visiting 3\n",
      "Visiting 7\n",
      "Visiting 8\n",
      "Visiting 4\n",
      "Visiting 5\n",
      "Visiting 6\n",
      "Visiting 9\n",
      "Visiting 1\n"
     ]
    }
   ],
   "source": [
    "g.display()\n",
    "\n",
    "breadth_first_search(g, lambda v: print('Visiting %d' % v))"
   ]
  },
  {
   "cell_type": "markdown",
   "metadata": {},
   "source": [
    "## Topological Sort (for DAGs)\n",
    "\n",
    "Directed Acyclic Graphs are equivalent to graphs that have a topological sort, i.e. partial order. The goal is to list all vertices so that if there's an edge from u to v, u comes before v in the list.\n",
    "\n",
    "The naïve way: take any node with no incoming edge. Remove outgoing edges. Repeat. It works but depending on the complexity of removing edges, it can be slow. Instead we can use a non-destructive algorithms that relies on queues.\n",
    "\n",
    "Precompute deg(v) for each node v, which is the number of incoming edge to v. Put all the ones with dev(v) = 0 in a queue. Then take the front of the queue as the next element, decrease deg for all its neighbors, and if one reaches 0 then add it to the queue. Repeat until the queue is empty."
   ]
  },
  {
   "cell_type": "code",
   "execution_count": 9,
   "metadata": {},
   "outputs": [],
   "source": [
    "def topological_sort(g):\n",
    "    \"\"\"Topological sort for a DAG.\"\"\"\n",
    "    deg = [0] * g.n # contains number of incoming edges\n",
    "    for v in range(g.n):\n",
    "        for n in g.neighbors(v):\n",
    "            deg[n] += 1\n",
    "    \n",
    "    sorted_vertices = []\n",
    "    \n",
    "    q = Queue() # contains vertices with deg(v) = 0\n",
    "    for v in range(g.n):\n",
    "        if deg[v] == 0:\n",
    "            q.enqueue(v)\n",
    "    \n",
    "    while not q.empty():\n",
    "        v = q.dequeue().value\n",
    "        sorted_vertices.append(v)\n",
    "        for n in g.neighbors(v):\n",
    "            deg[n] -= 1\n",
    "            if deg[n] == 0:\n",
    "                q.enqueue(n)\n",
    "    \n",
    "    return sorted_vertices"
   ]
  },
  {
   "cell_type": "code",
   "execution_count": 10,
   "metadata": {},
   "outputs": [
    {
     "name": "stdout",
     "output_type": "stream",
     "text": [
      "\n",
      " Vertex  | Neighbors\n",
      "---------------------------------------------\n",
      "   0     | \n",
      "   1     | 2, 4\n",
      "   2     | 5, 7, 8\n",
      "   3     | 4, 7\n",
      "   4     | 8\n",
      "   5     | \n",
      "   6     | 2\n",
      "   7     | \n",
      "   8     | \n",
      "\n"
     ]
    }
   ],
   "source": [
    "g = Graph(9)\n",
    "g.add_edge(6, 2)\n",
    "g.add_edge(2, 5)\n",
    "g.add_edge(2, 8)\n",
    "g.add_edge(1, 2)\n",
    "g.add_edge(2, 7)\n",
    "g.add_edge(1, 4)\n",
    "g.add_edge(4, 8)\n",
    "g.add_edge(3, 4)\n",
    "g.add_edge(3, 7)\n",
    "\n",
    "g.display()"
   ]
  },
  {
   "cell_type": "markdown",
   "metadata": {},
   "source": [
    "![Graph](img/graph_topological_sort.png)"
   ]
  },
  {
   "cell_type": "code",
   "execution_count": 11,
   "metadata": {},
   "outputs": [
    {
     "name": "stdout",
     "output_type": "stream",
     "text": [
      "[0, 1, 3, 6, 4, 2, 5, 7, 8]\n"
     ]
    }
   ],
   "source": [
    "print(topological_sort(g))"
   ]
  },
  {
   "cell_type": "markdown",
   "metadata": {},
   "source": [
    "The order is better seen on this graph:\n",
    "\n",
    "![Graph](img/graph_topological_sort_2.png)"
   ]
  },
  {
   "cell_type": "markdown",
   "metadata": {},
   "source": [
    "## Minimum Spanning Tree (MST)\n",
    "\n",
    "Goal: for G = (V, E) undirected, construct a tree using a subset of E that connects all vertices.\n",
    "\n",
    "### Kruskal's algorithm\n",
    "\n",
    "Idea 1: Edge with minimum weight must be included.\n",
    "\n",
    "Idea 2: Once an edge is included, we merge the connected parts into supernodes, using Union-Find.\n",
    "\n",
    "Union-Find uses a array of size |v|, initialized to A(v) = v, and supports two operations:\n",
    "  * **Find:** two vertices are connected if A(u) = A(v)\n",
    "  * **Union:** merge two groups by settings every A(u') where A(u') = A(u) to A(v)"
   ]
  },
  {
   "cell_type": "code",
   "execution_count": 12,
   "metadata": {},
   "outputs": [],
   "source": [
    "def kruskal(g):\n",
    "    edges = sorted(g.edges(), key=lambda e: e.weight)\n",
    "    selected_edges = []\n",
    "    a = list(range(g.n)) # A(v) = v\n",
    "    for e in edges:\n",
    "        if a[e.from_] != a[e.to]: # \"find\"\n",
    "            # Not yet connected, let's do it now.\n",
    "            selected_edges.append(e)\n",
    "            old, new = a[e.to], a[e.from_]\n",
    "            for i in range(g.n):\n",
    "                if a[i] == old:\n",
    "                    a[i] = new # \"union\"\n",
    "        # Else, ignore the edge.\n",
    "    k = Graph(g.n, directed=False)\n",
    "    cost = 0.0\n",
    "    for e in selected_edges:\n",
    "        k.add_edge(e.from_, e.to, e.weight)\n",
    "        cost += e.weight\n",
    "    return k, cost"
   ]
  },
  {
   "cell_type": "code",
   "execution_count": 13,
   "metadata": {},
   "outputs": [
    {
     "name": "stdout",
     "output_type": "stream",
     "text": [
      "\n",
      " Vertex  | Neighbors\n",
      "---------------------------------------------\n",
      "   0     | 6\n",
      "   1     | 6, 7\n",
      "   2     | 5, 7, 8\n",
      "   3     | 4, 6, 7\n",
      "   4     | 3, 5\n",
      "   5     | 2, 4, 8\n",
      "   6     | 0, 1, 3\n",
      "   7     | 1, 2, 3, 8\n",
      "   8     | 2, 5, 7\n",
      "\n"
     ]
    }
   ],
   "source": [
    "g = Graph(9, directed=False)\n",
    "\n",
    "# Use weight = from + to for simplicity.\n",
    "g.add_edge(0, 6, 6.0)\n",
    "g.add_edge(1, 6, 7.0)\n",
    "g.add_edge(1, 7, 8.0)\n",
    "g.add_edge(2, 5, 7.0)\n",
    "g.add_edge(2, 7, 9.0)\n",
    "g.add_edge(2, 8, 10.0)\n",
    "g.add_edge(3, 4, 7.0)\n",
    "g.add_edge(3, 6, 9.0)\n",
    "g.add_edge(3, 7, 10.0)\n",
    "g.add_edge(4, 5, 9.0)\n",
    "g.add_edge(5, 8, 13.0)\n",
    "g.add_edge(7, 8, 15.0)\n",
    "g.display()"
   ]
  },
  {
   "cell_type": "markdown",
   "metadata": {},
   "source": [
    "![Graph](img/graph_mst.png)"
   ]
  },
  {
   "cell_type": "code",
   "execution_count": 14,
   "metadata": {},
   "outputs": [
    {
     "name": "stdout",
     "output_type": "stream",
     "text": [
      "\n",
      " Vertex  | Neighbors\n",
      "---------------------------------------------\n",
      "   0     | 6\n",
      "   1     | 6, 7\n",
      "   2     | 5, 7, 8\n",
      "   3     | 4, 6\n",
      "   4     | 3\n",
      "   5     | 2\n",
      "   6     | 0, 1, 3\n",
      "   7     | 1, 2\n",
      "   8     | 2\n",
      "\n",
      "Cost: 63.0\n"
     ]
    }
   ],
   "source": [
    "k, cost = kruskal(g)\n",
    "k.display()\n",
    "print('Cost: %r' % cost)"
   ]
  },
  {
   "cell_type": "markdown",
   "metadata": {},
   "source": [
    "![Graph](img/graph_mst_solved.png)"
   ]
  },
  {
   "cell_type": "markdown",
   "metadata": {},
   "source": [
    "### Prim's algorithm\n",
    "\n",
    "* Pick any node and put it in S.\n",
    "* Find edge e with smallest weight that connects a vertex in S to a vertex v not yet in S.\n",
    "* Add e to MST and v to S.\n",
    "* Repeat n times (until S = V)."
   ]
  },
  {
   "cell_type": "code",
   "execution_count": 15,
   "metadata": {},
   "outputs": [],
   "source": [
    "def prims(g):\n",
    "    u = 0 # start with node 0\n",
    "    S = {u}\n",
    "    edges = PriorityQueue() # edges connecting S and its complement\n",
    "    selected_edges = []\n",
    "    while len(S) != g.n:\n",
    "        for e in g.edges(u):\n",
    "            if e.to not in S:\n",
    "                edges.insert(e, e.weight)\n",
    "        while True:\n",
    "            e = edges.pop()\n",
    "            if e.to not in S:\n",
    "                selected_edges.append(e)\n",
    "                S.add(e.to)\n",
    "                u = e.to\n",
    "                break\n",
    "    p = Graph(g.n, directed=False)\n",
    "    cost = 0.0\n",
    "    for e in selected_edges:\n",
    "        p.add_edge(e.from_, e.to, e.weight)\n",
    "        cost += e.weight\n",
    "    return p, cost"
   ]
  },
  {
   "cell_type": "code",
   "execution_count": 16,
   "metadata": {},
   "outputs": [
    {
     "name": "stdout",
     "output_type": "stream",
     "text": [
      "\n",
      " Vertex  | Neighbors\n",
      "---------------------------------------------\n",
      "   0     | 6\n",
      "   1     | 6, 7\n",
      "   2     | 5, 7, 8\n",
      "   3     | 4, 6\n",
      "   4     | 3\n",
      "   5     | 2\n",
      "   6     | 0, 1, 3\n",
      "   7     | 1, 2\n",
      "   8     | 2\n",
      "\n",
      "Cost: 63.0\n"
     ]
    }
   ],
   "source": [
    "p, cost = prims(g)\n",
    "p.display()\n",
    "print('Cost: %r' % cost)"
   ]
  }
 ],
 "metadata": {
  "kernelspec": {
   "display_name": "Python 3",
   "language": "python",
   "name": "python3"
  },
  "language_info": {
   "codemirror_mode": {
    "name": "ipython",
    "version": 3
   },
   "file_extension": ".py",
   "mimetype": "text/x-python",
   "name": "python",
   "nbconvert_exporter": "python",
   "pygments_lexer": "ipython3",
   "version": "3.6.4"
  }
 },
 "nbformat": 4,
 "nbformat_minor": 2
}
