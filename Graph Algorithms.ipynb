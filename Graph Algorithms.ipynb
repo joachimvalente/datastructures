{
 "cells": [
  {
   "cell_type": "markdown",
   "metadata": {},
   "source": [
    "# Graph Algorithms\n",
    "\n",
    "## Graph, stack, queue & priority queue implementations\n",
    "\n",
    "Using adjacency lists for graphs, singly-linked list for stacks, doubly-linked list for queues, and heap for priority queues. See `Graph (Adjacency Lists).ipynb`, `Linked List.ipynb` and `Heap.ipynb` for details"
   ]
  },
  {
   "cell_type": "code",
   "execution_count": 1,
   "metadata": {},
   "outputs": [],
   "source": [
    "import collections\n",
    "\n",
    "Edge = collections.namedtuple('Edge', ['from_', 'to', 'weight'])\n",
    "\n",
    "class Graph:\n",
    "    \"\"\"Graph implemented with adjacency lists.\n",
    "    \n",
    "    For conciseness, edge/vertex removal.\n",
    "    \"\"\"\n",
    "  \n",
    "    def __init__(self, n=0, directed=True):\n",
    "        \"\"\"Constructs a graph with n nodes and 0 edges.\"\"\"\n",
    "        self._vertex_to_last_edge = [-1] * n # size n\n",
    "        self._edge_to_destination = [] # size m\n",
    "        self._edge_to_next_edge = [] # size m\n",
    "        self._weights = [] # size m\n",
    "        self.n = n\n",
    "        self.m = 0\n",
    "        self.directed = directed\n",
    "        \n",
    "    def display(self):\n",
    "        \"\"\"Prints the adjacency lists in a human readable way.\"\"\"\n",
    "        print()\n",
    "        print('{:^8s} | {:^8s}'.format('Vertex', 'Neighbors'))\n",
    "        print('---------------------------------------------')\n",
    "        for v in range(self.n):\n",
    "            print('{:^8d} | {}'.format(v, ', '.join(map(str, sorted(self.neighbors(v))))))\n",
    "        print()\n",
    "      \n",
    "    def neighbors(self, i):\n",
    "        \"\"\"Returns the nodes directly accessible from node i.\"\"\"\n",
    "        self._validate(i)\n",
    "        edge = self._vertex_to_last_edge[i]\n",
    "        adjacent_vertices = []\n",
    "        while True:\n",
    "            if edge == -1:\n",
    "                return sorted(adjacent_vertices)\n",
    "            adjacent_vertices.append(self._edge_to_destination[edge])\n",
    "            edge = self._edge_to_next_edge[edge]\n",
    "            \n",
    "    def add_edge(self, i, j, weight=1.0, other_side_too=None):\n",
    "        \"\"\"Adds an edge from node i to node j.\"\"\"\n",
    "        self._validate(i, j)\n",
    "        if j not in self.neighbors(i):\n",
    "            self._edge_to_destination.append(j)\n",
    "            last_edge = self._vertex_to_last_edge[i] # can be -1\n",
    "            self._edge_to_next_edge.append(last_edge)\n",
    "            self._vertex_to_last_edge[i] = self.m\n",
    "            self._weights.append(weight)\n",
    "            self.m += 1\n",
    "            if not self.directed and other_side_too is None and i != j:\n",
    "                self.add_edge(j, i, weight, other_side_too=False)\n",
    "\n",
    "    def add_vertex(self):\n",
    "        \"\"\"Adds a vertex.\"\"\"\n",
    "        self._vertex_to_last_edge.append(-1)\n",
    "        self.n += 1\n",
    "        \n",
    "    def edges(self, v=None):\n",
    "        \"\"\"Returns list of edges of the graph, or of vertex v if not None.\"\"\"\n",
    "        if v is not None:\n",
    "            self._validate(v)\n",
    "            edges = []\n",
    "            edge = self._vertex_to_last_edge[v]\n",
    "            while edge != -1:\n",
    "                to = self._edge_to_destination[edge]\n",
    "                edges.append(Edge(from_=v, to=to, weight=self._weights[edge]))\n",
    "                edge = self._edge_to_next_edge[edge]\n",
    "            return edges\n",
    "        else:\n",
    "            edges = []\n",
    "            for v in range(self.n):\n",
    "                edge = self._vertex_to_last_edge[v]\n",
    "                while edge != -1:\n",
    "                    to = self._edge_to_destination[edge]\n",
    "                    if self.directed or v <= to:\n",
    "                        edges.append(Edge(from_=v, to=to, weight=self._weights[edge]))\n",
    "                    edge = self._edge_to_next_edge[edge]\n",
    "            return edges\n",
    "\n",
    "    def _validate(self, *args):\n",
    "        \"\"\"Validates index.\"\"\"\n",
    "        for i in args:\n",
    "            if i >= self.n or i < 0:\n",
    "                raise ValueError('Edges must be between 0 and %d' % (self.n - 1))"
   ]
  },
  {
   "cell_type": "code",
   "execution_count": 2,
   "metadata": {},
   "outputs": [],
   "source": [
    "class StackNode:\n",
    "    \"\"\"Node of a linear singly-linked list.\"\"\"\n",
    "    \n",
    "    def __init__(self, value):\n",
    "        self.value = value\n",
    "        self.next = None\n",
    "\n",
    "\n",
    "class Stack:\n",
    "    \"\"\"A stack.\"\"\"\n",
    "    \n",
    "    def __init__(self):\n",
    "        self.next = None\n",
    "        \n",
    "    def __iter__(self):\n",
    "        node = self\n",
    "        while node.next:\n",
    "            node = node.next\n",
    "            yield node.value\n",
    "    \n",
    "    def push(self, value):\n",
    "        node = StackNode(value)\n",
    "        node.next = self.next\n",
    "        self.next = node\n",
    "    \n",
    "    def pop(self):\n",
    "        if not self.next:\n",
    "            raise ValueError('Empty stack')\n",
    "        node = self.next\n",
    "        self.next = self.next.next\n",
    "        return node.value\n",
    "    \n",
    "    def peek(self):\n",
    "        if not self.next:\n",
    "            raise ValueError('Empty stack')\n",
    "        return self.next.value\n",
    "    \n",
    "    def empty(self):\n",
    "        return not self.next"
   ]
  },
  {
   "cell_type": "code",
   "execution_count": 3,
   "metadata": {},
   "outputs": [],
   "source": [
    "class QueueNode:\n",
    "    \"\"\"Node of a linear doubly-linked list.\"\"\"\n",
    "    \n",
    "    def __init__(self, value):\n",
    "        self.value = value\n",
    "        self.next = None\n",
    "        self.prev = None\n",
    "\n",
    "class Queue:\n",
    "    \"\"\"Queue implemented as a doubly-linked list.\"\"\"\n",
    "    \n",
    "    def __init__(self):\n",
    "        self.front = None\n",
    "        self.back = None\n",
    "    \n",
    "    def enqueue(self, value):\n",
    "        \"\"\"Add element to the back.\"\"\"\n",
    "        node = QueueNode(value)\n",
    "        if not self.back:\n",
    "            # Empty queue.\n",
    "            self.back = node\n",
    "            self.front = node\n",
    "        else:\n",
    "            self.back.next = node\n",
    "            node.prev = self.back\n",
    "            self.back = node\n",
    "    \n",
    "    def dequeue(self):\n",
    "        \"\"\"Remove element from the front.\"\"\"\n",
    "        if not self.back:\n",
    "            raise ValueError('Empty queue')\n",
    "        node = self.front\n",
    "        if not self.front.next:\n",
    "            # Queue is now empty.\n",
    "            self.front = None\n",
    "            self.back = None\n",
    "        else:\n",
    "            self.front.next.prev = None\n",
    "            self.front = self.front.next\n",
    "        return node.value\n",
    "    \n",
    "    def empty(self):\n",
    "        return not self.back"
   ]
  },
  {
   "cell_type": "code",
   "execution_count": 4,
   "metadata": {},
   "outputs": [],
   "source": [
    "class PriorityQueue:\n",
    "    \"\"\"A min-heap.\"\"\"\n",
    "    \n",
    "    def __init__(self):\n",
    "        self.array = []\n",
    "        self.len = 0\n",
    "        \n",
    "    def items(self):\n",
    "        for item in self.array:\n",
    "            yield item[0]\n",
    "            \n",
    "    def empty(self):\n",
    "        return not self.array\n",
    "        \n",
    "    def insert(self, value, priority):\n",
    "        \"\"\"Inserts an element.\"\"\"\n",
    "        self.array.append((value, priority))\n",
    "        self.len += 1\n",
    "        idx = self.len - 1\n",
    "        while True:\n",
    "            p = self._parent(idx)\n",
    "            if p is None:\n",
    "                return\n",
    "            if self.array[p][1] <= priority:\n",
    "                return\n",
    "            if self.array[p][1] > priority:\n",
    "                self.array[idx], self.array[p] = self.array[p], self.array[idx]\n",
    "                idx = p\n",
    "\n",
    "    def pop(self):\n",
    "        \"\"\"Removes and returns min element.\"\"\"\n",
    "        if self.len == 0:\n",
    "            raise ValueError('Empty priority queue')\n",
    "        if self.len == 1:\n",
    "            self.len = 0\n",
    "            return self.array.pop()[0]\n",
    "        top = self.array[0]\n",
    "        last = self.array.pop()\n",
    "        self.array[0] = last\n",
    "        self.len -= 1\n",
    "        idx = 0\n",
    "        while True:\n",
    "            left = self._left(idx)\n",
    "            right = self._right(idx)\n",
    "            # No child, done.\n",
    "            if left is None and right is None:\n",
    "                break\n",
    "            # One child, necessary on the left.\n",
    "            elif right is None:\n",
    "                val = self.array[left][1]\n",
    "                if val < last[1]:\n",
    "                    self.array[idx], self.array[left] = self.array[left], self.array[idx]\n",
    "                    idx = left\n",
    "                    continue\n",
    "                else:\n",
    "                    break\n",
    "            # Two children. If necessary, sift down with the larger one.\n",
    "            else:\n",
    "                a = self.array[left][1]\n",
    "                b = self.array[right][1]\n",
    "                if a < b:\n",
    "                    if a < last[1]:\n",
    "                        self.array[idx], self.array[left] = self.array[left], self.array[idx]\n",
    "                        idx = left\n",
    "                        continue\n",
    "                    else:\n",
    "                        break\n",
    "                else:\n",
    "                    if b < last[1]:\n",
    "                        self.array[idx], self.array[right] = self.array[right], self.array[idx]\n",
    "                        idx = right\n",
    "                        continue\n",
    "                    else:\n",
    "                        break\n",
    "        return top[0]\n",
    "\n",
    "    def _parent(self, i):\n",
    "        if i == 0:\n",
    "            return None\n",
    "        return (i - 1) // 2\n",
    "\n",
    "    def _left(self, i):\n",
    "        idx = 2 * i + 1\n",
    "        if idx >= self.len:\n",
    "            return None\n",
    "        return idx\n",
    "\n",
    "    def _right(self, i):\n",
    "        idx = 2 * i + 2\n",
    "        if idx >= self.len:\n",
    "            return None\n",
    "        return idx"
   ]
  },
  {
   "cell_type": "markdown",
   "metadata": {},
   "source": [
    "## Graph Traversal\n",
    "\n",
    "### Depth-first search (DFS)\n",
    "\n",
    "Traverse the graph by going down a branch until a \"leaf\" is reached and then backtracking. Implemented using a stack."
   ]
  },
  {
   "cell_type": "code",
   "execution_count": 5,
   "metadata": {},
   "outputs": [],
   "source": [
    "def depth_first_search(g, func, start_vertex=0):\n",
    "    \"\"\"Pre-order depth-first search.\"\"\"\n",
    "    s = Stack()\n",
    "    s.push(start_vertex)\n",
    "    seen = {start_vertex}\n",
    "    while not s.empty():\n",
    "        v = s.pop()\n",
    "        func(v) # pre-order\n",
    "        for n in g.neighbors(v):\n",
    "            if n not in seen:\n",
    "                s.push(n)\n",
    "                seen.add(n)"
   ]
  },
  {
   "cell_type": "code",
   "execution_count": 6,
   "metadata": {},
   "outputs": [
    {
     "name": "stdout",
     "output_type": "stream",
     "text": [
      "\n",
      " Vertex  | Neighbors\n",
      "---------------------------------------------\n",
      "   0     | 2\n",
      "   1     | \n",
      "   2     | 3, 7, 8\n",
      "   3     | \n",
      "   4     | 4, 5\n",
      "   5     | 6\n",
      "   6     | \n",
      "   7     | 2, 3, 4, 5, 6\n",
      "   8     | 7, 9\n",
      "   9     | 1\n",
      "\n",
      "Visiting 0\n",
      "Visiting 2\n",
      "Visiting 8\n",
      "Visiting 9\n",
      "Visiting 1\n",
      "Visiting 7\n",
      "Visiting 6\n",
      "Visiting 5\n",
      "Visiting 4\n",
      "Visiting 3\n"
     ]
    }
   ],
   "source": [
    "g = Graph(10)\n",
    "g.add_edge(0, 2)\n",
    "g.add_edge(2, 3)\n",
    "g.add_edge(2, 7)\n",
    "g.add_edge(2, 8)\n",
    "g.add_edge(4, 4)\n",
    "g.add_edge(4, 5)\n",
    "g.add_edge(5, 6)\n",
    "g.add_edge(7, 2)\n",
    "g.add_edge(7, 3)\n",
    "g.add_edge(7, 4)\n",
    "g.add_edge(7, 5)\n",
    "g.add_edge(7, 6)\n",
    "g.add_edge(8, 7)\n",
    "g.add_edge(8, 9)\n",
    "g.add_edge(9, 1)\n",
    "g.display()\n",
    "\n",
    "depth_first_search(g, lambda v: print('Visiting %d' % v))"
   ]
  },
  {
   "cell_type": "markdown",
   "metadata": {},
   "source": [
    "![Graph](img/graph_bfs_dfs.png)"
   ]
  },
  {
   "cell_type": "markdown",
   "metadata": {},
   "source": [
    "### Breadth-first search (BFS)\n",
    "\n",
    "Traverse the graph \"level by level.\" Implemented using a queue."
   ]
  },
  {
   "cell_type": "code",
   "execution_count": 7,
   "metadata": {},
   "outputs": [],
   "source": [
    "def breadth_first_search(g, func, start_vertex=0):\n",
    "    \"\"\"Pre-order breadth-first search.\"\"\"\n",
    "    q = Queue()\n",
    "    q.enqueue(start_vertex)\n",
    "    seen = {start_vertex}\n",
    "    while not q.empty():\n",
    "        v = q.dequeue()\n",
    "        func(v) # pre-order\n",
    "        for n in g.neighbors(v):\n",
    "            if n not in seen:\n",
    "                q.enqueue(n)\n",
    "                seen.add(n)"
   ]
  },
  {
   "cell_type": "code",
   "execution_count": 8,
   "metadata": {},
   "outputs": [
    {
     "name": "stdout",
     "output_type": "stream",
     "text": [
      "\n",
      " Vertex  | Neighbors\n",
      "---------------------------------------------\n",
      "   0     | 2\n",
      "   1     | \n",
      "   2     | 3, 7, 8\n",
      "   3     | \n",
      "   4     | 4, 5\n",
      "   5     | 6\n",
      "   6     | \n",
      "   7     | 2, 3, 4, 5, 6\n",
      "   8     | 7, 9\n",
      "   9     | 1\n",
      "\n",
      "Visiting 0\n",
      "Visiting 2\n",
      "Visiting 3\n",
      "Visiting 7\n",
      "Visiting 8\n",
      "Visiting 4\n",
      "Visiting 5\n",
      "Visiting 6\n",
      "Visiting 9\n",
      "Visiting 1\n"
     ]
    }
   ],
   "source": [
    "g.display()\n",
    "\n",
    "breadth_first_search(g, lambda v: print('Visiting %d' % v))"
   ]
  },
  {
   "cell_type": "markdown",
   "metadata": {},
   "source": [
    "## Topological Sort (for DAGs)\n",
    "\n",
    "Directed Acyclic Graphs are equivalent to graphs that have a topological sort, i.e. partial order. The goal is to list all vertices so that if there's an edge from u to v, u comes before v in the list.\n",
    "\n",
    "The naïve way: take any node with no incoming edge. Remove outgoing edges. Repeat. It works but depending on the complexity of removing edges, it can be slow. Instead we can use a non-destructive algorithms that relies on queues.\n",
    "\n",
    "Precompute deg(v) for each node v, which is the number of incoming edge to v. Put all the ones with dev(v) = 0 in a queue. Then take the front of the queue as the next element, decrease deg for all its neighbors, and if one reaches 0 then add it to the queue. Repeat until the queue is empty."
   ]
  },
  {
   "cell_type": "code",
   "execution_count": 9,
   "metadata": {},
   "outputs": [],
   "source": [
    "def topological_sort(g):\n",
    "    \"\"\"Topological sort for a DAG.\"\"\"\n",
    "    deg = [0] * g.n # contains number of incoming edges\n",
    "    for v in range(g.n):\n",
    "        for n in g.neighbors(v):\n",
    "            deg[n] += 1\n",
    "    \n",
    "    sorted_vertices = []\n",
    "    \n",
    "    q = Queue() # contains vertices with deg(v) = 0\n",
    "    for v in range(g.n):\n",
    "        if deg[v] == 0:\n",
    "            q.enqueue(v)\n",
    "    \n",
    "    while not q.empty():\n",
    "        v = q.dequeue()\n",
    "        sorted_vertices.append(v)\n",
    "        for n in g.neighbors(v):\n",
    "            deg[n] -= 1\n",
    "            if deg[n] == 0:\n",
    "                q.enqueue(n)\n",
    "    \n",
    "    return sorted_vertices"
   ]
  },
  {
   "cell_type": "code",
   "execution_count": 10,
   "metadata": {},
   "outputs": [
    {
     "name": "stdout",
     "output_type": "stream",
     "text": [
      "\n",
      " Vertex  | Neighbors\n",
      "---------------------------------------------\n",
      "   0     | \n",
      "   1     | 2, 4\n",
      "   2     | 5, 7, 8\n",
      "   3     | 4, 7\n",
      "   4     | 8\n",
      "   5     | \n",
      "   6     | 2\n",
      "   7     | \n",
      "   8     | \n",
      "\n"
     ]
    }
   ],
   "source": [
    "g = Graph(9)\n",
    "g.add_edge(6, 2)\n",
    "g.add_edge(2, 5)\n",
    "g.add_edge(2, 8)\n",
    "g.add_edge(1, 2)\n",
    "g.add_edge(2, 7)\n",
    "g.add_edge(1, 4)\n",
    "g.add_edge(4, 8)\n",
    "g.add_edge(3, 4)\n",
    "g.add_edge(3, 7)\n",
    "\n",
    "g.display()"
   ]
  },
  {
   "cell_type": "markdown",
   "metadata": {},
   "source": [
    "![Graph](img/graph_topological_sort.png)"
   ]
  },
  {
   "cell_type": "code",
   "execution_count": 11,
   "metadata": {},
   "outputs": [
    {
     "name": "stdout",
     "output_type": "stream",
     "text": [
      "[0, 1, 3, 6, 4, 2, 5, 7, 8]\n"
     ]
    }
   ],
   "source": [
    "print(topological_sort(g))"
   ]
  },
  {
   "cell_type": "markdown",
   "metadata": {},
   "source": [
    "The order is better seen on this graph:\n",
    "\n",
    "![Graph](img/graph_topological_sort_2.png)"
   ]
  },
  {
   "cell_type": "markdown",
   "metadata": {},
   "source": [
    "## Minimum Spanning Tree (MST)\n",
    "\n",
    "Goal: for G = (V, E) undirected, construct a tree using a subset of E that connects all vertices.\n",
    "\n",
    "### Kruskal's algorithm\n",
    "\n",
    "Idea 1: Edge with minimum weight must be included.\n",
    "\n",
    "Idea 2: Once an edge is included, we merge the connected parts into supernodes, using Union-Find.\n",
    "\n",
    "Union-Find uses a array of size |v|, initialized to A(v) = v, and supports two operations:\n",
    "  * **Find:** two vertices are connected if A(u) = A(v)\n",
    "  * **Union:** merge two groups by settings every A(u') where A(u') = A(u) to A(v)"
   ]
  },
  {
   "cell_type": "code",
   "execution_count": 12,
   "metadata": {},
   "outputs": [],
   "source": [
    "def kruskal(g):\n",
    "    edges = sorted(g.edges(), key=lambda e: e.weight)\n",
    "    selected_edges = []\n",
    "    a = list(range(g.n)) # A(v) = v\n",
    "    for e in edges:\n",
    "        if a[e.from_] != a[e.to]: # \"find\"\n",
    "            # Not yet connected, let's do it now.\n",
    "            selected_edges.append(e)\n",
    "            old, new = a[e.to], a[e.from_]\n",
    "            for i in range(g.n):\n",
    "                if a[i] == old:\n",
    "                    a[i] = new # \"union\"\n",
    "        # Else, ignore the edge.\n",
    "    k = Graph(g.n, directed=False)\n",
    "    cost = 0.0\n",
    "    for e in selected_edges:\n",
    "        k.add_edge(e.from_, e.to, e.weight)\n",
    "        cost += e.weight\n",
    "    return k, cost"
   ]
  },
  {
   "cell_type": "code",
   "execution_count": 13,
   "metadata": {},
   "outputs": [
    {
     "name": "stdout",
     "output_type": "stream",
     "text": [
      "\n",
      " Vertex  | Neighbors\n",
      "---------------------------------------------\n",
      "   0     | 6\n",
      "   1     | 6, 7\n",
      "   2     | 5, 7, 8\n",
      "   3     | 4, 6, 7\n",
      "   4     | 3, 5\n",
      "   5     | 2, 4, 8\n",
      "   6     | 0, 1, 3\n",
      "   7     | 1, 2, 3, 8\n",
      "   8     | 2, 5, 7\n",
      "\n"
     ]
    }
   ],
   "source": [
    "g = Graph(9, directed=False)\n",
    "\n",
    "# Use weight = from + to for simplicity.\n",
    "g.add_edge(0, 6, 6.0)\n",
    "g.add_edge(1, 6, 7.0)\n",
    "g.add_edge(1, 7, 8.0)\n",
    "g.add_edge(2, 5, 7.0)\n",
    "g.add_edge(2, 7, 9.0)\n",
    "g.add_edge(2, 8, 10.0)\n",
    "g.add_edge(3, 4, 7.0)\n",
    "g.add_edge(3, 6, 9.0)\n",
    "g.add_edge(3, 7, 10.0)\n",
    "g.add_edge(4, 5, 9.0)\n",
    "g.add_edge(5, 8, 13.0)\n",
    "g.add_edge(7, 8, 15.0)\n",
    "g.display()"
   ]
  },
  {
   "cell_type": "markdown",
   "metadata": {},
   "source": [
    "![Graph](img/graph_mst.png)"
   ]
  },
  {
   "cell_type": "code",
   "execution_count": 14,
   "metadata": {},
   "outputs": [
    {
     "name": "stdout",
     "output_type": "stream",
     "text": [
      "\n",
      " Vertex  | Neighbors\n",
      "---------------------------------------------\n",
      "   0     | 6\n",
      "   1     | 6, 7\n",
      "   2     | 5, 7, 8\n",
      "   3     | 4, 6\n",
      "   4     | 3\n",
      "   5     | 2\n",
      "   6     | 0, 1, 3\n",
      "   7     | 1, 2\n",
      "   8     | 2\n",
      "\n",
      "Cost: 63.0\n"
     ]
    }
   ],
   "source": [
    "k, cost = kruskal(g)\n",
    "k.display()\n",
    "print('Cost: %r' % cost)"
   ]
  },
  {
   "cell_type": "markdown",
   "metadata": {},
   "source": [
    "![Graph](img/graph_mst_solved.png)"
   ]
  },
  {
   "cell_type": "markdown",
   "metadata": {},
   "source": [
    "### Prim's algorithm\n",
    "\n",
    "* Pick any node and put it in S.\n",
    "* Find edge e with smallest weight that connects a vertex in S to a vertex v not yet in S.\n",
    "* Add e to MST and v to S.\n",
    "* Repeat n times (until S = V)."
   ]
  },
  {
   "cell_type": "code",
   "execution_count": 15,
   "metadata": {},
   "outputs": [],
   "source": [
    "def prims(g):\n",
    "    u = 0 # start with node 0\n",
    "    S = {u}\n",
    "    edges = PriorityQueue() # edges connecting S and its complement\n",
    "    selected_edges = []\n",
    "    while len(S) != g.n:\n",
    "        for e in g.edges(u):\n",
    "            if e.to not in S:\n",
    "                edges.insert(e, e.weight)\n",
    "        while True:\n",
    "            e = edges.pop()\n",
    "            if e.to not in S:\n",
    "                selected_edges.append(e)\n",
    "                S.add(e.to)\n",
    "                u = e.to\n",
    "                break\n",
    "    p = Graph(g.n, directed=False)\n",
    "    cost = 0.0\n",
    "    for e in selected_edges:\n",
    "        p.add_edge(e.from_, e.to, e.weight)\n",
    "        cost += e.weight\n",
    "    return p, cost"
   ]
  },
  {
   "cell_type": "code",
   "execution_count": 16,
   "metadata": {},
   "outputs": [
    {
     "name": "stdout",
     "output_type": "stream",
     "text": [
      "\n",
      " Vertex  | Neighbors\n",
      "---------------------------------------------\n",
      "   0     | 6\n",
      "   1     | 6, 7\n",
      "   2     | 5, 7, 8\n",
      "   3     | 4, 6\n",
      "   4     | 3\n",
      "   5     | 2\n",
      "   6     | 0, 1, 3\n",
      "   7     | 1, 2\n",
      "   8     | 2\n",
      "\n",
      "Cost: 63.0\n"
     ]
    }
   ],
   "source": [
    "p, cost = prims(g)\n",
    "p.display()\n",
    "print('Cost: %r' % cost)"
   ]
  },
  {
   "cell_type": "markdown",
   "metadata": {},
   "source": [
    "## Cycle detection\n",
    "\n",
    "### Cycles in directed graph\n",
    "\n",
    "For directed graphs, we can use DFS and make sure no node is present in the recursion stack that led to it."
   ]
  },
  {
   "cell_type": "code",
   "execution_count": 17,
   "metadata": {},
   "outputs": [],
   "source": [
    "def has_cycle(g, start_vertex=0):\n",
    "    \"\"\"Pre-order depth-first search.\"\"\"\n",
    "    s = Stack()\n",
    "    s.push(start_vertex)\n",
    "    seen = {start_vertex}\n",
    "    visited = set()\n",
    "    while not s.empty():\n",
    "        # We need to keep the node in the chain so we'll only peek.\n",
    "        v = s.peek()\n",
    "        if v in visited:\n",
    "            s.pop()\n",
    "            continue\n",
    "        visited.add(v)\n",
    "        for n in g.neighbors(v):\n",
    "            if n in s:\n",
    "                # n is present in the recursion stack => cycle.\n",
    "                return True\n",
    "            if n not in seen:\n",
    "                s.push(n)\n",
    "                seen.add(n)\n",
    "    return False"
   ]
  },
  {
   "cell_type": "code",
   "execution_count": 18,
   "metadata": {},
   "outputs": [
    {
     "name": "stdout",
     "output_type": "stream",
     "text": [
      "False\n"
     ]
    }
   ],
   "source": [
    "g = Graph(5)\n",
    "g.add_edge(0, 1)\n",
    "g.add_edge(1, 2)\n",
    "g.add_edge(1, 4)\n",
    "g.add_edge(2, 3)\n",
    "g.add_edge(2, 4)\n",
    "print(has_cycle(g))"
   ]
  },
  {
   "cell_type": "markdown",
   "metadata": {},
   "source": [
    "![Graph](img/graph_directed_no_cycle.png)"
   ]
  },
  {
   "cell_type": "code",
   "execution_count": 19,
   "metadata": {},
   "outputs": [
    {
     "name": "stdout",
     "output_type": "stream",
     "text": [
      "True\n"
     ]
    }
   ],
   "source": [
    "g = Graph(5)\n",
    "g.add_edge(0, 1)\n",
    "g.add_edge(1, 2)\n",
    "g.add_edge(2, 3)\n",
    "g.add_edge(2, 4)\n",
    "g.add_edge(4, 1)\n",
    "print(has_cycle(g))"
   ]
  },
  {
   "cell_type": "markdown",
   "metadata": {},
   "source": [
    "![Graph](img/graph_directed_cycle.png)"
   ]
  },
  {
   "cell_type": "code",
   "execution_count": 20,
   "metadata": {},
   "outputs": [
    {
     "name": "stdout",
     "output_type": "stream",
     "text": [
      "True\n"
     ]
    }
   ],
   "source": [
    "# One example with self link.\n",
    "g = Graph(5)\n",
    "g.add_edge(0, 1)\n",
    "g.add_edge(1, 2)\n",
    "g.add_edge(1, 4)\n",
    "g.add_edge(2, 3)\n",
    "g.add_edge(2, 4)\n",
    "g.add_edge(3, 3)\n",
    "print(has_cycle(g))"
   ]
  },
  {
   "cell_type": "markdown",
   "metadata": {},
   "source": [
    "### Cycles in undirected graph"
   ]
  },
  {
   "cell_type": "markdown",
   "metadata": {},
   "source": [
    "Here we could make sure that no neighbor (except for the node we're coming from) is in the `visited` set. But since it's also means `G` is a tree, assuming it is connected with `n` vertices, we can just check it has `n - 1` edges."
   ]
  },
  {
   "cell_type": "code",
   "execution_count": 21,
   "metadata": {},
   "outputs": [],
   "source": [
    "def has_cycle_undirected(g, start_vertex=0):\n",
    "    return len(g.edges()) != g.n - 1"
   ]
  },
  {
   "cell_type": "code",
   "execution_count": 22,
   "metadata": {},
   "outputs": [
    {
     "name": "stdout",
     "output_type": "stream",
     "text": [
      "True\n"
     ]
    }
   ],
   "source": [
    "g = Graph(5, directed=False)\n",
    "g.add_edge(0, 1)\n",
    "g.add_edge(1, 2)\n",
    "g.add_edge(2, 3)\n",
    "g.add_edge(2, 4)\n",
    "g.add_edge(4, 1)\n",
    "print(has_cycle_undirected(g))"
   ]
  },
  {
   "cell_type": "markdown",
   "metadata": {},
   "source": [
    "![Graph](img/graph_undirected_cycle.png)"
   ]
  },
  {
   "cell_type": "code",
   "execution_count": 23,
   "metadata": {},
   "outputs": [
    {
     "name": "stdout",
     "output_type": "stream",
     "text": [
      "False\n"
     ]
    }
   ],
   "source": [
    "g = Graph(5, directed=False)\n",
    "g.add_edge(0, 1)\n",
    "g.add_edge(1, 2)\n",
    "g.add_edge(2, 3)\n",
    "g.add_edge(4, 1)\n",
    "print(has_cycle_undirected(g))"
   ]
  },
  {
   "cell_type": "markdown",
   "metadata": {},
   "source": [
    "![Graph](img/graph_undirected_no_cycle.png)"
   ]
  },
  {
   "cell_type": "markdown",
   "metadata": {},
   "source": [
    "## Shortest path\n",
    "\n",
    "Problem: compute the shortest path from a node $S$ to all other nodes."
   ]
  },
  {
   "cell_type": "code",
   "execution_count": 24,
   "metadata": {},
   "outputs": [],
   "source": [
    "def print_shortest_paths(distance, predecessor):\n",
    "    \"\"\"Prints results.\"\"\"\n",
    "    for i, d in enumerate(distance):\n",
    "        chain = [predecessor[i]]\n",
    "        while chain[0] is not None:\n",
    "            chain = [predecessor[chain[0]]] + chain\n",
    "        print('%d: distance = %.1f via %s' % (i, d, ' -> '.join(map(str, chain[1:] + [i]))))"
   ]
  },
  {
   "cell_type": "markdown",
   "metadata": {},
   "source": [
    "### Bellman-Ford algorithm (general solution for directed graphs with negative weights)\n",
    "\n",
    "This works even with negative weights, and detects negative cycles. Runs in O(VE).\n",
    "\n",
    "Idea: Start with $dist(S, u) = \\inf$ for all nodes. Then repeat $\\left|V\\right|$ times: for each edge $(u, v)$ of weight $w$, update $dist(S, v) = min(dist(S, u) + w, dist(S, v))$.\n",
    "\n",
    "We need to repeat it $\\left|V\\right|$ times because in the worst case there are $\\left|V\\right|$ updates needed (or really $\\left|V\\right| - 1$).\n",
    "\n",
    "If there's a negative cycle, then at the end we'll find an edge $(u, v) = w$ such that $dist(v) < dist(u) + w$."
   ]
  },
  {
   "cell_type": "code",
   "execution_count": 25,
   "metadata": {},
   "outputs": [],
   "source": [
    "def bellman_ford(g, source=0):\n",
    "    # Initialization.\n",
    "    distance = [float('inf')] * g.n\n",
    "    distance[source] = 0.0\n",
    "    predecessor = [None] * g.n\n",
    "    \n",
    "    # Repeat |V| - 1 times.\n",
    "    for _ in range(g.n - 1):\n",
    "        for e in g.edges():\n",
    "            if distance[e.from_] + e.weight < distance[e.to]:\n",
    "                distance[e.to] = distance[e.from_] + e.weight\n",
    "                predecessor[e.to] = e.from_\n",
    "    \n",
    "    # Check for negative cycles.\n",
    "    for e in g.edges():\n",
    "        if distance[e.from_] + e.weight < distance[e.to]:\n",
    "            chain = [e.to]\n",
    "            while chain[0] not in chain[1:]:\n",
    "                chain = [predecessor[chain[0]]] + chain\n",
    "            raise ValueError('Negative cycle detected: %s...' % ' -> '.join(map(str, chain)))\n",
    "    \n",
    "    return distance, predecessor"
   ]
  },
  {
   "cell_type": "code",
   "execution_count": 26,
   "metadata": {},
   "outputs": [
    {
     "name": "stdout",
     "output_type": "stream",
     "text": [
      "0: distance = 0.0 via 0\n",
      "1: distance = -3.0 via 0 -> 2 -> 1\n",
      "2: distance = -1.0 via 0 -> 2\n",
      "3: distance = inf via 3\n"
     ]
    }
   ],
   "source": [
    "g = Graph(4)\n",
    "g.add_edge(0, 1, 2.0)\n",
    "g.add_edge(0, 2, -1.0)\n",
    "g.add_edge(1, 2, 3.0)\n",
    "g.add_edge(2, 1, -2.0)\n",
    "\n",
    "distance, predecessor = bellman_ford(g)\n",
    "print_shortest_paths(distance, predecessor)"
   ]
  },
  {
   "cell_type": "code",
   "execution_count": 27,
   "metadata": {},
   "outputs": [
    {
     "name": "stdout",
     "output_type": "stream",
     "text": [
      "Negative cycle detected: 2 -> 1 -> 2...\n"
     ]
    }
   ],
   "source": [
    "g = Graph(4)\n",
    "g.add_edge(0, 1, 2.0)\n",
    "g.add_edge(0, 2, -1.0)\n",
    "g.add_edge(1, 2, 3.0)\n",
    "g.add_edge(2, 1, -4.0) # negative cycle 1->2->1->...\n",
    "\n",
    "try:\n",
    "    distance, predecessor = bellman_ford(g)\n",
    "except ValueError as e:\n",
    "    print(str(e))"
   ]
  },
  {
   "cell_type": "code",
   "execution_count": 28,
   "metadata": {},
   "outputs": [
    {
     "name": "stdout",
     "output_type": "stream",
     "text": [
      "0: distance = 0.0 via 0\n",
      "1: distance = -10.0 via 0 -> 5 -> 4 -> 3 -> 1\n",
      "2: distance = -8.0 via 0 -> 5 -> 4 -> 3 -> 1 -> 2\n",
      "3: distance = -6.0 via 0 -> 5 -> 4 -> 3\n",
      "4: distance = -3.0 via 0 -> 5 -> 4\n",
      "5: distance = -1.0 via 0 -> 5\n"
     ]
    }
   ],
   "source": [
    "# More complex example.\n",
    "g = Graph(6)\n",
    "g.add_edge(0, 1, 1.0)\n",
    "g.add_edge(0, 1, -4.0) # note, two edges between 0 and 1 with different weights\n",
    "g.add_edge(0, 5, -1.0)\n",
    "g.add_edge(1, 2, 2.0)\n",
    "g.add_edge(1, 3, 4.0)\n",
    "g.add_edge(1, 4, 10.0)\n",
    "g.add_edge(2, 3, 3.0)\n",
    "g.add_edge(3, 1, -4.0)\n",
    "g.add_edge(3, 4, 6.0)\n",
    "g.add_edge(4, 3, -3.0)\n",
    "g.add_edge(5, 4, -2.0)\n",
    "\n",
    "print_shortest_paths(*bellman_ford(g))"
   ]
  },
  {
   "cell_type": "markdown",
   "metadata": {},
   "source": [
    "### Dijkstra's algorithm: Undirected and directed with no negative cycles\n",
    "\n",
    "It uses a min-priority queue to perform a best-first search. If we're only interested in one destination we don't need to traverse the entire graph. It runs in O(E + V log V) since removing the min from a heap is O(log V), and we do it for each vertex; and every edge is considered once."
   ]
  },
  {
   "cell_type": "code",
   "execution_count": 29,
   "metadata": {},
   "outputs": [],
   "source": [
    "def dijkstra(g, start_vertex=0, end_vertex=None):\n",
    "    # Initialization.\n",
    "    distance = [float('inf')] * g.n\n",
    "    predecessor = [None] * g.n\n",
    "    distance[start_vertex] = 0\n",
    "    visited = set() # fully visited with their final distance\n",
    "    q = PriorityQueue()\n",
    "    q.insert(start_vertex, 0)\n",
    "    \n",
    "    while not q.empty():\n",
    "        u = q.pop() # O(log V)\n",
    "        if u in visited:\n",
    "            continue  # need to do this because q.insert() doesn't replace\n",
    "        if u == end_vertex:\n",
    "            return distance[u], predecessor # we can stop here\n",
    "        visited.add(u)\n",
    "\n",
    "        for e in g.edges(u):\n",
    "            v = e.to\n",
    "            if v not in visited:\n",
    "                if distance[u] + e.weight < distance[v]:\n",
    "                    distance[v] = distance[u] + e.weight\n",
    "                    predecessor[v] = u\n",
    "                    q.insert(v, distance[v])\n",
    "\n",
    "    return distance, predecessor"
   ]
  },
  {
   "cell_type": "code",
   "execution_count": 30,
   "metadata": {},
   "outputs": [
    {
     "name": "stdout",
     "output_type": "stream",
     "text": [
      "0: distance = 0.0 via 0\n",
      "1: distance = 2.0 via 0 -> 1\n",
      "2: distance = 1.0 via 0 -> 2\n",
      "3: distance = inf via 3\n"
     ]
    }
   ],
   "source": [
    "# Simple.\n",
    "g = Graph(4)\n",
    "g.add_edge(0, 1, 2.0)\n",
    "g.add_edge(0, 2, 1.0)\n",
    "g.add_edge(1, 2, 3.0)\n",
    "g.add_edge(2, 1, 4.0)\n",
    "\n",
    "distance, predecessor = dijkstra(g)\n",
    "print_shortest_paths(distance, predecessor)"
   ]
  },
  {
   "cell_type": "code",
   "execution_count": 31,
   "metadata": {},
   "outputs": [
    {
     "name": "stdout",
     "output_type": "stream",
     "text": [
      "0: distance = 0.0 via 0\n",
      "1: distance = -5.0 via 0 -> 2 -> 1\n",
      "2: distance = -1.0 via 0 -> 2\n",
      "3: distance = inf via 3\n"
     ]
    }
   ],
   "source": [
    "# Simple, with negative cycle: doesn't work!\n",
    "g = Graph(4)\n",
    "g.add_edge(0, 1, 2.0)\n",
    "g.add_edge(0, 2, -1.0)\n",
    "g.add_edge(1, 2, 3.0)\n",
    "g.add_edge(2, 1, -4.0) # negative cycle 1->2->1->...\n",
    "\n",
    "distance, predecessor = dijkstra(g)\n",
    "print_shortest_paths(distance, predecessor)"
   ]
  },
  {
   "cell_type": "code",
   "execution_count": 32,
   "metadata": {},
   "outputs": [
    {
     "name": "stdout",
     "output_type": "stream",
     "text": [
      "0: distance = 0.0 via 0\n",
      "1: distance = -10.0 via 0 -> 5 -> 4 -> 3 -> 1\n",
      "2: distance = -8.0 via 0 -> 5 -> 4 -> 3 -> 1 -> 2\n",
      "3: distance = -6.0 via 0 -> 5 -> 4 -> 3\n",
      "4: distance = -3.0 via 0 -> 5 -> 4\n",
      "5: distance = -1.0 via 0 -> 5\n"
     ]
    }
   ],
   "source": [
    "# More complex example, with no negative cycle.\n",
    "g = Graph(6)\n",
    "g.add_edge(0, 1, 1.0)\n",
    "g.add_edge(0, 1, -4.0) # note, two edges between 0 and 1 with different weights\n",
    "g.add_edge(0, 5, -1.0)\n",
    "g.add_edge(1, 2, 2.0)\n",
    "g.add_edge(1, 3, 4.0)\n",
    "g.add_edge(1, 4, 10.0)\n",
    "g.add_edge(2, 3, 3.0)\n",
    "g.add_edge(3, 1, -4.0)\n",
    "g.add_edge(3, 4, 6.0)\n",
    "g.add_edge(4, 3, -3.0)\n",
    "g.add_edge(5, 4, -2.0)\n",
    "\n",
    "print_shortest_paths(*dijkstra(g))"
   ]
  },
  {
   "cell_type": "markdown",
   "metadata": {},
   "source": [
    "### Application: snake and ladder\n",
    "\n",
    "From https://www.geeksforgeeks.org/snake-ladder-problem-2/\n",
    "\n",
    "Player can throw a 1-6 die, and has to go up when finding a ladder and down when finding a snake. What's the fastest path to 30?\n",
    "\n",
    "![Board](img/snake_and_ladder.jpg)"
   ]
  },
  {
   "cell_type": "code",
   "execution_count": 42,
   "metadata": {},
   "outputs": [
    {
     "name": "stdout",
     "output_type": "stream",
     "text": [
      "\n",
      " Vertex  | Neighbors\n",
      "---------------------------------------------\n",
      "   0     | \n",
      "   1     | 2, 3, 4, 5, 6, 7\n",
      "   2     | 3, 4, 5, 6, 7, 8\n",
      "   3     | 4, 5, 6, 7, 8, 9, 22\n",
      "   4     | 5, 6, 7, 8, 9, 10\n",
      "   5     | 6, 7, 8, 9, 10, 11\n",
      "   6     | 7, 8, 9, 10, 11, 12\n",
      "   7     | 8, 9, 10, 11, 12, 13\n",
      "   8     | 9, 10, 11, 12, 13, 14\n",
      "   9     | 10, 11, 12, 13, 14, 15\n",
      "   10    | 11, 12, 13, 14, 15, 16\n",
      "   11    | 12, 13, 14, 15, 16, 17, 26\n",
      "   12    | 13, 14, 15, 16, 17, 18\n",
      "   13    | 14, 15, 16, 17, 18, 19\n",
      "   14    | 15, 16, 17, 18, 19, 20\n",
      "   15    | 16, 17, 18, 19, 20, 21\n",
      "   16    | 17, 18, 19, 20, 21, 22\n",
      "   17    | 4, 18, 19, 20, 21, 22, 23\n",
      "   18    | 19, 20, 21, 22, 23, 24\n",
      "   19    | 7, 20, 21, 22, 23, 24, 25\n",
      "   20    | 21, 22, 23, 24, 25, 26, 29\n",
      "   21    | 9, 22, 23, 24, 25, 26, 27\n",
      "   22    | 23, 24, 25, 26, 27, 28\n",
      "   23    | 24, 25, 26, 27, 28, 29\n",
      "   24    | 25, 26, 27, 28, 29, 30\n",
      "   25    | 26, 27, 28, 29, 30\n",
      "   26    | 27, 28, 29, 30\n",
      "   27    | 1, 28, 29, 30\n",
      "   28    | 29, 30\n",
      "   29    | 30\n",
      "   30    | \n",
      "\n",
      "Fastest: 3 dice throws via 1 -> 3 -> 22 -> 24 -> 30\n"
     ]
    }
   ],
   "source": [
    "board = {\n",
    "    3: 22,\n",
    "    5: 8,\n",
    "    11: 26,\n",
    "    17: 4,\n",
    "    19: 7,\n",
    "    20: 29,\n",
    "    21: 9,\n",
    "    27: 1,\n",
    "}\n",
    "g = Graph(31)\n",
    "for i in range(1, 31):\n",
    "    for d in range(1, 7):\n",
    "        if i + d <= 30:\n",
    "            g.add_edge(i, i + d)\n",
    "            if i + d in board:\n",
    "                g.add_edge(i + d, board[i + d], 0.0)\n",
    "g.display()\n",
    "dist, pred = dijkstra(g, 1)\n",
    "chain = [30]\n",
    "while chain[0] is not None:\n",
    "    chain = [pred[chain[0]]] + chain\n",
    "print('Fastest: %d dice throws via %s' % (dist[30], ' -> '.join(map(str, chain[1:]))))"
   ]
  },
  {
   "cell_type": "markdown",
   "metadata": {},
   "source": [
    "### For a DAG"
   ]
  },
  {
   "cell_type": "markdown",
   "metadata": {},
   "source": [
    "Step 1: topological sort in O(V+E)\n",
    "\n",
    "Step 2: visit nodes in topological order and for every edge (u,v)=w do dist(v) = min(dist(v), dist(u)+w) which is also O(V+E)"
   ]
  },
  {
   "cell_type": "code",
   "execution_count": 34,
   "metadata": {},
   "outputs": [],
   "source": [
    "def shortest_path_dag(g, start_vertex=0):\n",
    "    # Step 1. Topological sort.\n",
    "    a = topological_sort(g)\n",
    "    \n",
    "    # Step 2. Visit vertices in topological order.\n",
    "    distance = [float('inf')] * g.n\n",
    "    predecessor = [None] * g.n\n",
    "    distance[start_vertex] = 0\n",
    "    for u in a:\n",
    "        for e in g.edges(u):\n",
    "            v, w = e.to, e.weight\n",
    "            if distance[u] + w < distance[v]:\n",
    "                distance[v] = distance[u] + w\n",
    "                predecessor[v] = u\n",
    "    \n",
    "    return distance, predecessor"
   ]
  },
  {
   "cell_type": "code",
   "execution_count": 43,
   "metadata": {},
   "outputs": [],
   "source": [
    "g = Graph(9)\n",
    "g.add_edge(6, 2)\n",
    "g.add_edge(2, 5)\n",
    "g.add_edge(2, 8)\n",
    "g.add_edge(1, 2, 10.0)\n",
    "g.add_edge(2, 7)\n",
    "g.add_edge(1, 4)\n",
    "g.add_edge(4, 8)\n",
    "g.add_edge(3, 4)\n",
    "g.add_edge(3, 7)"
   ]
  },
  {
   "cell_type": "markdown",
   "metadata": {},
   "source": [
    "![Graph](img/graph_topological_sort_2.png)"
   ]
  },
  {
   "cell_type": "code",
   "execution_count": 44,
   "metadata": {},
   "outputs": [
    {
     "name": "stdout",
     "output_type": "stream",
     "text": [
      "0: distance = inf via 0\n",
      "1: distance = 0.0 via 1\n",
      "2: distance = 10.0 via 1 -> 2\n",
      "3: distance = inf via 3\n",
      "4: distance = 1.0 via 1 -> 4\n",
      "5: distance = 11.0 via 1 -> 2 -> 5\n",
      "6: distance = inf via 6\n",
      "7: distance = 11.0 via 1 -> 2 -> 7\n",
      "8: distance = 2.0 via 1 -> 4 -> 8\n"
     ]
    }
   ],
   "source": [
    "print_shortest_paths(*shortest_path_dag(g, 1))"
   ]
  },
  {
   "cell_type": "markdown",
   "metadata": {},
   "source": [
    "## Max flow problem\n",
    "\n",
    "A flow network is a directed graph where weights $c(u,v)$ represent capacity. Flows $f(u,v)$ must be lower than or equal to the capacity, and the sum of flows entering a node must be equal to the sum of flows leaving it, except for the source $s$ and sink $t$ for which $\\sum_u f(s,u) = \\sum_u f(u, t)$. The \"flow\" is the sum of all flows, i.e. $\\left|f\\right| = \\sum_{(u,v) \\in E} f(u,v)$, and we want to maximize it.\n",
    "\n",
    "It's solved by the Ford-Fulkerson method, or more precisely its implementation the Edmonds-Karp algorithm. As long as there is a path from $s$ to $t$ in the residual graph (graph with capacity $c' = c - f$ and no flow), called an augmenting path, we add the minimum capacity on that path to the flow."
   ]
  },
  {
   "cell_type": "code",
   "execution_count": 37,
   "metadata": {},
   "outputs": [],
   "source": [
    "def ford_fulkerson_edmonds_karp(g, s, t):\n",
    "    \"\"\"Edmonds-Karp implementation of the Ford-Fulkerson method.\n",
    "    \n",
    "    Args:\n",
    "        g: Directed graph where edges' weight represent the capacity.\n",
    "        s: Source node.\n",
    "        t: Sink node.\n",
    "    \n",
    "    Returns:\n",
    "        The flow, i.e. f[u][v] for every edge (u, v).\n",
    "    \"\"\"\n",
    "    f = [[0] * g.n for _ in range(g.n)]\n",
    "    \n",
    "    while True:\n",
    "        # Is there a path from s to t in the residual graph? Let's find out with breadth-first search.\n",
    "        predecessor = [(None, float('inf'))] * g.n\n",
    "        q = Queue()\n",
    "        q.enqueue(s)\n",
    "        seen = {s}\n",
    "        while not q.empty():\n",
    "            u = q.dequeue()\n",
    "            for e in g.edges(u):\n",
    "                v, c = e.to, e.weight\n",
    "                c_ = c - f[u][v] # residual capacity\n",
    "                if c_ > 0 and v not in seen:\n",
    "                    q.enqueue(v)\n",
    "                    seen.add(v)\n",
    "                    predecessor[v] = u, c_\n",
    "                    if v == t:\n",
    "                        # Found a path.\n",
    "                        path = []\n",
    "                        node = (t, None)\n",
    "                        while node[0] != s:\n",
    "                            pred = predecessor[node[0]]\n",
    "                            path = [(pred[0], node[0], pred[1])] + path\n",
    "                            node = pred\n",
    "                        break\n",
    "            else: # no break => no path found yet\n",
    "                continue\n",
    "            # Path found.\n",
    "            min_capacity = min(path, key=lambda x: x[2])[2]\n",
    "            print('Found path = %s with capacity %d' % ('-'.join([str(x[0]) for x in path] + [str(t)]), min_capacity))\n",
    "            for e in path:\n",
    "                f[e[0]][e[1]] += min_capacity\n",
    "                f[e[1]][e[0]] -= min_capacity\n",
    "            break\n",
    "        else: # no break => no path found after exhausting BFS\n",
    "            break\n",
    "    \n",
    "    return f"
   ]
  },
  {
   "cell_type": "code",
   "execution_count": 38,
   "metadata": {},
   "outputs": [],
   "source": [
    "g = Graph(9)\n",
    "g.add_edge(0, 1, 3)\n",
    "g.add_edge(0, 2, 5)\n",
    "g.add_edge(1, 3, 5)\n",
    "g.add_edge(1, 4, 2)\n",
    "g.add_edge(2, 4, 4)\n",
    "g.add_edge(3, 6, 2)\n",
    "g.add_edge(4, 5, 2)\n",
    "g.add_edge(4, 6, 3)\n",
    "g.add_edge(5, 7, 1)\n",
    "g.add_edge(6, 8, 5)\n",
    "g.add_edge(7, 8, 1)"
   ]
  },
  {
   "cell_type": "code",
   "execution_count": 39,
   "metadata": {},
   "outputs": [
    {
     "name": "stdout",
     "output_type": "stream",
     "text": [
      "Found path = 0-2-4-6-8 with capacity 3\n",
      "Found path = 0-1-3-6-8 with capacity 2\n",
      "Found path = 0-2-4-5-7-8 with capacity 1\n"
     ]
    }
   ],
   "source": [
    "flow = ford_fulkerson_edmonds_karp(g, 0, 8)"
   ]
  },
  {
   "cell_type": "code",
   "execution_count": 40,
   "metadata": {},
   "outputs": [],
   "source": [
    "def print_flow(g, flow):\n",
    "    total = 0\n",
    "    for e in g.edges():\n",
    "        f = flow[e.from_][e.to]\n",
    "        print('%d -> %d: %d / %d' % (e.from_, e.to, f, e.weight))\n",
    "        total += f\n",
    "    print('Flow = %d' % total)"
   ]
  },
  {
   "cell_type": "code",
   "execution_count": 41,
   "metadata": {
    "scrolled": true
   },
   "outputs": [
    {
     "name": "stdout",
     "output_type": "stream",
     "text": [
      "0 -> 2: 4 / 5\n",
      "0 -> 1: 2 / 3\n",
      "1 -> 4: 0 / 2\n",
      "1 -> 3: 2 / 5\n",
      "2 -> 4: 4 / 4\n",
      "3 -> 6: 2 / 2\n",
      "4 -> 6: 3 / 3\n",
      "4 -> 5: 1 / 2\n",
      "5 -> 7: 1 / 1\n",
      "6 -> 8: 5 / 5\n",
      "7 -> 8: 1 / 1\n",
      "Flow = 25\n"
     ]
    }
   ],
   "source": [
    "print_flow(g, flow)"
   ]
  },
  {
   "cell_type": "markdown",
   "metadata": {},
   "source": [
    "![Max-Flow](img/graph_maxflow.png)"
   ]
  }
 ],
 "metadata": {
  "kernelspec": {
   "display_name": "Python 3",
   "language": "python",
   "name": "python3"
  },
  "language_info": {
   "codemirror_mode": {
    "name": "ipython",
    "version": 3
   },
   "file_extension": ".py",
   "mimetype": "text/x-python",
   "name": "python",
   "nbconvert_exporter": "python",
   "pygments_lexer": "ipython3",
   "version": "3.6.4"
  }
 },
 "nbformat": 4,
 "nbformat_minor": 2
}
