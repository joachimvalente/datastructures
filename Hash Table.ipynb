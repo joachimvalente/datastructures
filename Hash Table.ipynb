{
 "cells": [
  {
   "cell_type": "markdown",
   "metadata": {},
   "source": [
    "# Hash Tables\n",
    "\n",
    "Lookup, insertion, deletion in O(1) average. This is implemented as a fixed-size array and separate chaining with linked lists to deal to collisions."
   ]
  },
  {
   "cell_type": "code",
   "execution_count": 1,
   "metadata": {},
   "outputs": [],
   "source": [
    "import mmh3 # https://pypi.org/project/mmh3"
   ]
  },
  {
   "cell_type": "code",
   "execution_count": 2,
   "metadata": {},
   "outputs": [],
   "source": [
    "class Node:\n",
    "    \"\"\"Node of a singly-linked list.\"\"\"\n",
    "    \n",
    "    def __init__(self, key, value):\n",
    "        self.key = key\n",
    "        self.value = value\n",
    "        self.next = None\n",
    "\n",
    "        \n",
    "class Bucket:\n",
    "    \"\"\"Bucket implemented as a singly-linked list.\"\"\"\n",
    "    \n",
    "    def __init__(self):\n",
    "        self.next = None\n",
    "        \n",
    "    def insert(self, key, value):\n",
    "        node = self\n",
    "        while node.next:\n",
    "            node = node.next\n",
    "            if node.key == key:\n",
    "                node.value = value\n",
    "                return\n",
    "        node.next = Node(key, value)\n",
    "\n",
    "    def lookup(self, key):\n",
    "        node = self\n",
    "        while node.next:\n",
    "            node = node.next\n",
    "            if node.key == key:\n",
    "                return node.value\n",
    "        raise KeyError(key)\n",
    "\n",
    "    def delete(self, key):\n",
    "        node = self\n",
    "        while node.next:\n",
    "            if node.next.key == key:\n",
    "                node.next = node.next.next\n",
    "                return\n",
    "        raise KeyError(key)\n",
    "    \n",
    "    def __str__(self):\n",
    "        s = ''\n",
    "        node = self\n",
    "        while node.next:\n",
    "            node = node.next\n",
    "            s += '[%r = %r] → ' % (node.key, node.value)\n",
    "        s += '◇'\n",
    "        return s\n",
    "    \n",
    "    __repr__ = __str__\n",
    "        \n",
    "\n",
    "def _hash(x, size):\n",
    "    \"\"\"Hash basic types.\"\"\"\n",
    "    if isinstance(x, str):\n",
    "        return mmh3.hash(x) % size\n",
    "    if isinstance(x, int):\n",
    "        return mmh3.hash(hex(x)) % size\n",
    "    if isinstance(x, float):\n",
    "        return mmh3.hash(x.hex()) % size\n",
    "    if isinstance(x, (list, tuple, range)):\n",
    "        return mmh3.hash(''.join(str(_hash(k, size)) for k in x)) % size\n",
    "\n",
    "\n",
    "class HashTable:\n",
    "    \"\"\"Hash table.\"\"\"\n",
    "    \n",
    "    def __init__(self, size=256):\n",
    "        self._array = [Bucket() for _ in range(size)]\n",
    "        self._size = size\n",
    "    \n",
    "    def __getitem__(self, key):\n",
    "        return self._array[_hash(key, self._size)].lookup(key)\n",
    "\n",
    "    def __setitem__(self, key, value):\n",
    "        self._array[_hash(key, self._size)].insert(key, value)\n",
    "        \n",
    "    def __delitem__(self, key):\n",
    "        return self._array[_hash(key, self._size)].delete(key)\n",
    "    \n",
    "    def __str__(self):\n",
    "        return '\\n'.join('{:>3d} | {}'.format(i, self._array[i]) for i in range(self._size))\n",
    "\n",
    "    __repr__ = __str__"
   ]
  },
  {
   "cell_type": "code",
   "execution_count": 3,
   "metadata": {},
   "outputs": [],
   "source": [
    "h = HashTable(16)"
   ]
  },
  {
   "cell_type": "code",
   "execution_count": 4,
   "metadata": {},
   "outputs": [
    {
     "name": "stdout",
     "output_type": "stream",
     "text": [
      "3\n"
     ]
    }
   ],
   "source": [
    "try:\n",
    "    h[3]\n",
    "except KeyError as e:\n",
    "    print(e)"
   ]
  },
  {
   "cell_type": "code",
   "execution_count": 5,
   "metadata": {},
   "outputs": [
    {
     "name": "stdout",
     "output_type": "stream",
     "text": [
      "4\n"
     ]
    }
   ],
   "source": [
    "try:\n",
    "    del h[4]\n",
    "except KeyError as e:\n",
    "    print(e)"
   ]
  },
  {
   "cell_type": "code",
   "execution_count": 6,
   "metadata": {},
   "outputs": [],
   "source": [
    "h[1] = 11\n",
    "h[2] = 22\n",
    "h[3] = 33\n",
    "h[4] = 44\n",
    "h[5] = 55\n",
    "h[6] = 66"
   ]
  },
  {
   "cell_type": "code",
   "execution_count": 7,
   "metadata": {},
   "outputs": [
    {
     "data": {
      "text/plain": [
       "(11, 22, 33, 44, 55, 66)"
      ]
     },
     "execution_count": 7,
     "metadata": {},
     "output_type": "execute_result"
    }
   ],
   "source": [
    "h[1], h[2], h[3], h[4], h[5], h[6]"
   ]
  },
  {
   "cell_type": "code",
   "execution_count": 8,
   "metadata": {},
   "outputs": [],
   "source": [
    "del h[1]"
   ]
  },
  {
   "cell_type": "code",
   "execution_count": 9,
   "metadata": {},
   "outputs": [
    {
     "name": "stdout",
     "output_type": "stream",
     "text": [
      "1\n"
     ]
    }
   ],
   "source": [
    "try:\n",
    "    h[1]\n",
    "except KeyError as e:\n",
    "    print(e)"
   ]
  },
  {
   "cell_type": "code",
   "execution_count": 10,
   "metadata": {},
   "outputs": [
    {
     "name": "stdout",
     "output_type": "stream",
     "text": [
      "  0 | ◇\n",
      "  1 | [2 = 22] → ◇\n",
      "  2 | [3 = 33] → ◇\n",
      "  3 | [5 = 55] → ◇\n",
      "  4 | ◇\n",
      "  5 | ◇\n",
      "  6 | ◇\n",
      "  7 | ◇\n",
      "  8 | [6 = 66] → ◇\n",
      "  9 | ◇\n",
      " 10 | ◇\n",
      " 11 | ◇\n",
      " 12 | [4 = 44] → ◇\n",
      " 13 | ◇\n",
      " 14 | ◇\n",
      " 15 | ◇\n"
     ]
    }
   ],
   "source": [
    "print(h)"
   ]
  },
  {
   "cell_type": "code",
   "execution_count": 11,
   "metadata": {},
   "outputs": [],
   "source": [
    "h[['a', 1, True]] = ('b', 2, False)"
   ]
  },
  {
   "cell_type": "code",
   "execution_count": 12,
   "metadata": {},
   "outputs": [
    {
     "data": {
      "text/plain": [
       "('b', 2, False)"
      ]
     },
     "execution_count": 12,
     "metadata": {},
     "output_type": "execute_result"
    }
   ],
   "source": [
    "h[['a', 1, 1]]"
   ]
  },
  {
   "cell_type": "code",
   "execution_count": 13,
   "metadata": {},
   "outputs": [],
   "source": [
    "h[3.14] = 'pi'\n",
    "h[2.718] = 'e'"
   ]
  },
  {
   "cell_type": "code",
   "execution_count": 14,
   "metadata": {
    "scrolled": true
   },
   "outputs": [
    {
     "name": "stdout",
     "output_type": "stream",
     "text": [
      "  0 | ◇\n",
      "  1 | [2 = 22] → ◇\n",
      "  2 | [3 = 33] → ◇\n",
      "  3 | [5 = 55] → [2.718 = 'e'] → ◇\n",
      "  4 | ◇\n",
      "  5 | ◇\n",
      "  6 | ◇\n",
      "  7 | ◇\n",
      "  8 | [6 = 66] → ◇\n",
      "  9 | ◇\n",
      " 10 | ◇\n",
      " 11 | ◇\n",
      " 12 | [4 = 44] → ◇\n",
      " 13 | ◇\n",
      " 14 | [['a', 1, True] = ('b', 2, False)] → [3.14 = 'pi'] → ◇\n",
      " 15 | ◇\n"
     ]
    }
   ],
   "source": [
    "print(h)"
   ]
  }
 ],
 "metadata": {
  "kernelspec": {
   "display_name": "Python 3",
   "language": "python",
   "name": "python3"
  },
  "language_info": {
   "codemirror_mode": {
    "name": "ipython",
    "version": 3
   },
   "file_extension": ".py",
   "mimetype": "text/x-python",
   "name": "python",
   "nbconvert_exporter": "python",
   "pygments_lexer": "ipython3",
   "version": "3.6.4"
  }
 },
 "nbformat": 4,
 "nbformat_minor": 2
}
